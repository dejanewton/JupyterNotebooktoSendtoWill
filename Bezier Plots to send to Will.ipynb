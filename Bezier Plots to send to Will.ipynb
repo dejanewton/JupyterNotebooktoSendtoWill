{
 "cells": [
  {
   "cell_type": "markdown",
   "id": "disabled-cleaners",
   "metadata": {},
   "source": [
    "import warnings\n",
    "warnings.simplefilter(action='ignore', category=FutureWarning)\n",
    "\n",
    "import pandas"
   ]
  },
  {
   "cell_type": "markdown",
   "id": "retained-vault",
   "metadata": {},
   "source": [
    "# Okay so this is the data I inserted from the excel sheet to make the graph below"
   ]
  },
  {
   "cell_type": "code",
   "execution_count": 64,
   "id": "revolutionary-baseball",
   "metadata": {},
   "outputs": [],
   "source": [
    "import pandas as pd\n",
    "import numpy as np\n",
    "import matplotlib.pyplot as plt"
   ]
  },
  {
   "cell_type": "code",
   "execution_count": 65,
   "id": "hidden-needle",
   "metadata": {},
   "outputs": [],
   "source": [
    "import pandas as pd"
   ]
  },
  {
   "cell_type": "code",
   "execution_count": 66,
   "id": "approved-lawrence",
   "metadata": {},
   "outputs": [],
   "source": [
    "dfs = pd.read_excel(r'/Users/dejanewton/Desktop/beziercurve.xls', sheet_name='Sheet3')"
   ]
  },
  {
   "cell_type": "code",
   "execution_count": 67,
   "id": "diagnostic-ballet",
   "metadata": {},
   "outputs": [],
   "source": [
    "import pandas as pd"
   ]
  },
  {
   "cell_type": "code",
   "execution_count": 68,
   "id": "normal-seventh",
   "metadata": {},
   "outputs": [],
   "source": [
    "import ipywidgets as widgets\n",
    "from ipywidgets import interact, interact_manual"
   ]
  },
  {
   "cell_type": "code",
   "execution_count": 69,
   "id": "cutting-temperature",
   "metadata": {},
   "outputs": [
    {
     "data": {
      "text/html": [
       "        <script type=\"text/javascript\">\n",
       "        window.PlotlyConfig = {MathJaxConfig: 'local'};\n",
       "        if (window.MathJax) {MathJax.Hub.Config({SVG: {font: \"STIX-Web\"}});}\n",
       "        if (typeof require !== 'undefined') {\n",
       "        require.undef(\"plotly\");\n",
       "        requirejs.config({\n",
       "            paths: {\n",
       "                'plotly': ['https://cdn.plot.ly/plotly-latest.min']\n",
       "            }\n",
       "        });\n",
       "        require(['plotly'], function(Plotly) {\n",
       "            window._Plotly = Plotly;\n",
       "        });\n",
       "        }\n",
       "        </script>\n",
       "        "
      ]
     },
     "metadata": {},
     "output_type": "display_data"
    },
    {
     "data": {
      "text/html": [
       "        <script type=\"text/javascript\">\n",
       "        window.PlotlyConfig = {MathJaxConfig: 'local'};\n",
       "        if (window.MathJax) {MathJax.Hub.Config({SVG: {font: \"STIX-Web\"}});}\n",
       "        if (typeof require !== 'undefined') {\n",
       "        require.undef(\"plotly\");\n",
       "        requirejs.config({\n",
       "            paths: {\n",
       "                'plotly': ['https://cdn.plot.ly/plotly-latest.min']\n",
       "            }\n",
       "        });\n",
       "        require(['plotly'], function(Plotly) {\n",
       "            window._Plotly = Plotly;\n",
       "        });\n",
       "        }\n",
       "        </script>\n",
       "        "
      ]
     },
     "metadata": {},
     "output_type": "display_data"
    }
   ],
   "source": [
    "# Standard plotly imports\n",
    "import plotly.graph_objects as py\n",
    "import plotly.graph_objs as go\n",
    "from plotly.offline import iplot, init_notebook_mode\n",
    "# Using plotly + cufflinks in offline mode\n",
    "import cufflinks\n",
    "cufflinks.go_offline(connected=True)\n",
    "init_notebook_mode(connected=True)"
   ]
  },
  {
   "cell_type": "code",
   "execution_count": 70,
   "id": "persistent-cotton",
   "metadata": {
    "scrolled": true
   },
   "outputs": [
    {
     "data": {
      "application/vnd.plotly.v1+json": {
       "config": {
        "linkText": "Export to plot.ly",
        "plotlyServerURL": "https://plot.ly",
        "showLink": true
       },
       "data": [
        {
         "marker": {
          "color": "rgba(255, 153, 51, 1.0)",
          "line": {
           "width": 1.3
          },
          "opacity": 0.8,
          "size": 12,
          "symbol": "circle"
         },
         "mode": "markers",
         "name": "-99.22",
         "textfont": {
          "color": "#4D5663"
         },
         "type": "scatter",
         "x": [
          67.84
         ],
         "y": [
          -99.22
         ]
        },
        {
         "marker": {
          "color": "rgba(55, 128, 191, 1.0)",
          "line": {
           "width": 1.3
          },
          "opacity": 0.8,
          "size": 12,
          "symbol": "circle"
         },
         "mode": "markers",
         "name": "-98.38",
         "textfont": {
          "color": "#4D5663"
         },
         "type": "scatter",
         "x": [
          65.75
         ],
         "y": [
          -98.38
         ]
        },
        {
         "marker": {
          "color": "rgba(50, 171, 96, 1.0)",
          "line": {
           "width": 1.3
          },
          "opacity": 0.8,
          "size": 12,
          "symbol": "circle"
         },
         "mode": "markers",
         "name": "-97.48",
         "textfont": {
          "color": "#4D5663"
         },
         "type": "scatter",
         "x": [
          63.71
         ],
         "y": [
          -97.48
         ]
        },
        {
         "marker": {
          "color": "rgba(128, 0, 128, 1.0)",
          "line": {
           "width": 1.3
          },
          "opacity": 0.8,
          "size": 12,
          "symbol": "circle"
         },
         "mode": "markers",
         "name": "-96.53",
         "textfont": {
          "color": "#4D5663"
         },
         "type": "scatter",
         "x": [
          61.74
         ],
         "y": [
          -96.53
         ]
        },
        {
         "marker": {
          "color": "rgba(219, 64, 82, 1.0)",
          "line": {
           "width": 1.3
          },
          "opacity": 0.8,
          "size": 12,
          "symbol": "circle"
         },
         "mode": "markers",
         "name": "-95.52",
         "textfont": {
          "color": "#4D5663"
         },
         "type": "scatter",
         "x": [
          59.82
         ],
         "y": [
          -95.52
         ]
        },
        {
         "marker": {
          "color": "rgba(0, 128, 128, 1.0)",
          "line": {
           "width": 1.3
          },
          "opacity": 0.8,
          "size": 12,
          "symbol": "circle"
         },
         "mode": "markers",
         "name": "-94.46",
         "textfont": {
          "color": "#4D5663"
         },
         "type": "scatter",
         "x": [
          57.97
         ],
         "y": [
          -94.46
         ]
        },
        {
         "marker": {
          "color": "rgba(255, 255, 51, 1.0)",
          "line": {
           "width": 1.3
          },
          "opacity": 0.8,
          "size": 12,
          "symbol": "circle"
         },
         "mode": "markers",
         "name": "-93.34",
         "textfont": {
          "color": "#4D5663"
         },
         "type": "scatter",
         "x": [
          56.17
         ],
         "y": [
          -93.34
         ]
        },
        {
         "marker": {
          "color": "rgba(128, 128, 0, 1.0)",
          "line": {
           "width": 1.3
          },
          "opacity": 0.8,
          "size": 12,
          "symbol": "circle"
         },
         "mode": "markers",
         "name": "-92.17",
         "textfont": {
          "color": "#4D5663"
         },
         "type": "scatter",
         "x": [
          54.43
         ],
         "y": [
          -92.17
         ]
        },
        {
         "marker": {
          "color": "rgba(251, 128, 114, 1.0)",
          "line": {
           "width": 1.3
          },
          "opacity": 0.8,
          "size": 12,
          "symbol": "circle"
         },
         "mode": "markers",
         "name": "-90.95",
         "textfont": {
          "color": "#4D5663"
         },
         "type": "scatter",
         "x": [
          52.74
         ],
         "y": [
          -90.95
         ]
        },
        {
         "marker": {
          "color": "rgba(128, 177, 211, 1.0)",
          "line": {
           "width": 1.3
          },
          "opacity": 0.8,
          "size": 12,
          "symbol": "circle"
         },
         "mode": "markers",
         "name": "-89.68",
         "textfont": {
          "color": "#4D5663"
         },
         "type": "scatter",
         "x": [
          51.11
         ],
         "y": [
          -89.68
         ]
        },
        {
         "marker": {
          "color": "rgba(128, 177, 211, 0.9191919191919191)",
          "line": {
           "width": 1.3
          },
          "opacity": 0.8,
          "size": 12,
          "symbol": "circle"
         },
         "mode": "markers",
         "name": "-88.35",
         "textfont": {
          "color": "#4D5663"
         },
         "type": "scatter",
         "x": [
          49.53
         ],
         "y": [
          -88.35
         ]
        },
        {
         "marker": {
          "color": "rgba(255, 153, 51, 0.9191919191919191)",
          "line": {
           "width": 1.3
          },
          "opacity": 0.8,
          "size": 12,
          "symbol": "circle"
         },
         "mode": "markers",
         "name": "-86.98",
         "textfont": {
          "color": "#4D5663"
         },
         "type": "scatter",
         "x": [
          48.01
         ],
         "y": [
          -86.98
         ]
        },
        {
         "marker": {
          "color": "rgba(55, 128, 191, 0.9191919191919191)",
          "line": {
           "width": 1.3
          },
          "opacity": 0.8,
          "size": 12,
          "symbol": "circle"
         },
         "mode": "markers",
         "name": "-85.56",
         "textfont": {
          "color": "#4D5663"
         },
         "type": "scatter",
         "x": [
          46.54
         ],
         "y": [
          -85.56
         ]
        },
        {
         "marker": {
          "color": "rgba(50, 171, 96, 0.9191919191919191)",
          "line": {
           "width": 1.3
          },
          "opacity": 0.8,
          "size": 12,
          "symbol": "circle"
         },
         "mode": "markers",
         "name": "-84.1",
         "textfont": {
          "color": "#4D5663"
         },
         "type": "scatter",
         "x": [
          45.11
         ],
         "y": [
          -84.1
         ]
        },
        {
         "marker": {
          "color": "rgba(128, 0, 128, 0.9191919191919191)",
          "line": {
           "width": 1.3
          },
          "opacity": 0.8,
          "size": 12,
          "symbol": "circle"
         },
         "mode": "markers",
         "name": "-82.59",
         "textfont": {
          "color": "#4D5663"
         },
         "type": "scatter",
         "x": [
          43.74
         ],
         "y": [
          -82.59
         ]
        },
        {
         "marker": {
          "color": "rgba(219, 64, 82, 0.9191919191919191)",
          "line": {
           "width": 1.3
          },
          "opacity": 0.8,
          "size": 12,
          "symbol": "circle"
         },
         "mode": "markers",
         "name": "-81.04",
         "textfont": {
          "color": "#4D5663"
         },
         "type": "scatter",
         "x": [
          42.41
         ],
         "y": [
          -81.04
         ]
        },
        {
         "marker": {
          "color": "rgba(0, 128, 128, 0.9191919191919191)",
          "line": {
           "width": 1.3
          },
          "opacity": 0.8,
          "size": 12,
          "symbol": "circle"
         },
         "mode": "markers",
         "name": "-79.44",
         "textfont": {
          "color": "#4D5663"
         },
         "type": "scatter",
         "x": [
          41.13
         ],
         "y": [
          -79.44
         ]
        },
        {
         "marker": {
          "color": "rgba(255, 255, 51, 0.9191919191919191)",
          "line": {
           "width": 1.3
          },
          "opacity": 0.8,
          "size": 12,
          "symbol": "circle"
         },
         "mode": "markers",
         "name": "-77.8",
         "textfont": {
          "color": "#4D5663"
         },
         "type": "scatter",
         "x": [
          39.9
         ],
         "y": [
          -77.8
         ]
        },
        {
         "marker": {
          "color": "rgba(128, 128, 0, 0.9191919191919191)",
          "line": {
           "width": 1.3
          },
          "opacity": 0.8,
          "size": 12,
          "symbol": "circle"
         },
         "mode": "markers",
         "name": "-76.12",
         "textfont": {
          "color": "#4D5663"
         },
         "type": "scatter",
         "x": [
          38.72
         ],
         "y": [
          -76.12
         ]
        },
        {
         "marker": {
          "color": "rgba(251, 128, 114, 0.9191919191919191)",
          "line": {
           "width": 1.3
          },
          "opacity": 0.8,
          "size": 12,
          "symbol": "circle"
         },
         "mode": "markers",
         "name": "-74.4",
         "textfont": {
          "color": "#4D5663"
         },
         "type": "scatter",
         "x": [
          37.58
         ],
         "y": [
          -74.4
         ]
        },
        {
         "marker": {
          "color": "rgba(251, 128, 114, 0.8383838383838382)",
          "line": {
           "width": 1.3
          },
          "opacity": 0.8,
          "size": 12,
          "symbol": "circle"
         },
         "mode": "markers",
         "name": "-72.64",
         "textfont": {
          "color": "#4D5663"
         },
         "type": "scatter",
         "x": [
          36.48
         ],
         "y": [
          -72.64
         ]
        },
        {
         "marker": {
          "color": "rgba(128, 177, 211, 0.8383838383838382)",
          "line": {
           "width": 1.3
          },
          "opacity": 0.8,
          "size": 12,
          "symbol": "circle"
         },
         "mode": "markers",
         "name": "-70.84",
         "textfont": {
          "color": "#4D5663"
         },
         "type": "scatter",
         "x": [
          35.42
         ],
         "y": [
          -70.84
         ]
        },
        {
         "marker": {
          "color": "rgba(255, 153, 51, 0.8383838383838382)",
          "line": {
           "width": 1.3
          },
          "opacity": 0.8,
          "size": 12,
          "symbol": "circle"
         },
         "mode": "markers",
         "name": "-69.01",
         "textfont": {
          "color": "#4D5663"
         },
         "type": "scatter",
         "x": [
          34.41
         ],
         "y": [
          -69.01
         ]
        },
        {
         "marker": {
          "color": "rgba(55, 128, 191, 0.8383838383838382)",
          "line": {
           "width": 1.3
          },
          "opacity": 0.8,
          "size": 12,
          "symbol": "circle"
         },
         "mode": "markers",
         "name": "-67.14",
         "textfont": {
          "color": "#4D5663"
         },
         "type": "scatter",
         "x": [
          33.43
         ],
         "y": [
          -67.14
         ]
        },
        {
         "marker": {
          "color": "rgba(50, 171, 96, 0.8383838383838382)",
          "line": {
           "width": 1.3
          },
          "opacity": 0.8,
          "size": 12,
          "symbol": "circle"
         },
         "mode": "markers",
         "name": "-65.23",
         "textfont": {
          "color": "#4D5663"
         },
         "type": "scatter",
         "x": [
          32.5
         ],
         "y": [
          -65.23
         ]
        },
        {
         "marker": {
          "color": "rgba(128, 0, 128, 0.8383838383838382)",
          "line": {
           "width": 1.3
          },
          "opacity": 0.8,
          "size": 12,
          "symbol": "circle"
         },
         "mode": "markers",
         "name": "-63.3",
         "textfont": {
          "color": "#4D5663"
         },
         "type": "scatter",
         "x": [
          31.6
         ],
         "y": [
          -63.3
         ]
        },
        {
         "marker": {
          "color": "rgba(219, 64, 82, 0.8383838383838382)",
          "line": {
           "width": 1.3
          },
          "opacity": 0.8,
          "size": 12,
          "symbol": "circle"
         },
         "mode": "markers",
         "name": "-61.32",
         "textfont": {
          "color": "#4D5663"
         },
         "type": "scatter",
         "x": [
          30.75
         ],
         "y": [
          -61.32
         ]
        },
        {
         "marker": {
          "color": "rgba(0, 128, 128, 0.8383838383838382)",
          "line": {
           "width": 1.3
          },
          "opacity": 0.8,
          "size": 12,
          "symbol": "circle"
         },
         "mode": "markers",
         "name": "-59.32",
         "textfont": {
          "color": "#4D5663"
         },
         "type": "scatter",
         "x": [
          29.92
         ],
         "y": [
          -59.32
         ]
        },
        {
         "marker": {
          "color": "rgba(255, 255, 51, 0.8383838383838382)",
          "line": {
           "width": 1.3
          },
          "opacity": 0.8,
          "size": 12,
          "symbol": "circle"
         },
         "mode": "markers",
         "name": "-57.29",
         "textfont": {
          "color": "#4D5663"
         },
         "type": "scatter",
         "x": [
          29.14
         ],
         "y": [
          -57.29
         ]
        },
        {
         "marker": {
          "color": "rgba(128, 128, 0, 0.8383838383838382)",
          "line": {
           "width": 1.3
          },
          "opacity": 0.8,
          "size": 12,
          "symbol": "circle"
         },
         "mode": "markers",
         "name": "-55.23",
         "textfont": {
          "color": "#4D5663"
         },
         "type": "scatter",
         "x": [
          28.38
         ],
         "y": [
          -55.23
         ]
        },
        {
         "marker": {
          "color": "rgba(128, 128, 0, 0.7575757575757576)",
          "line": {
           "width": 1.3
          },
          "opacity": 0.8,
          "size": 12,
          "symbol": "circle"
         },
         "mode": "markers",
         "name": "-53.13",
         "textfont": {
          "color": "#4D5663"
         },
         "type": "scatter",
         "x": [
          27.66
         ],
         "y": [
          -53.13
         ]
        },
        {
         "marker": {
          "color": "rgba(251, 128, 114, 0.7575757575757576)",
          "line": {
           "width": 1.3
          },
          "opacity": 0.8,
          "size": 12,
          "symbol": "circle"
         },
         "mode": "markers",
         "name": "-51.01",
         "textfont": {
          "color": "#4D5663"
         },
         "type": "scatter",
         "x": [
          26.98
         ],
         "y": [
          -51.01
         ]
        },
        {
         "marker": {
          "color": "rgba(128, 177, 211, 0.7575757575757576)",
          "line": {
           "width": 1.3
          },
          "opacity": 0.8,
          "size": 12,
          "symbol": "circle"
         },
         "mode": "markers",
         "name": "-48.87",
         "textfont": {
          "color": "#4D5663"
         },
         "type": "scatter",
         "x": [
          26.32
         ],
         "y": [
          -48.87
         ]
        },
        {
         "marker": {
          "color": "rgba(255, 153, 51, 0.7575757575757576)",
          "line": {
           "width": 1.3
          },
          "opacity": 0.8,
          "size": 12,
          "symbol": "circle"
         },
         "mode": "markers",
         "name": "-46.7",
         "textfont": {
          "color": "#4D5663"
         },
         "type": "scatter",
         "x": [
          25.7
         ],
         "y": [
          -46.7
         ]
        },
        {
         "marker": {
          "color": "rgba(55, 128, 191, 0.7575757575757576)",
          "line": {
           "width": 1.3
          },
          "opacity": 0.8,
          "size": 12,
          "symbol": "circle"
         },
         "mode": "markers",
         "name": "-44.5",
         "textfont": {
          "color": "#4D5663"
         },
         "type": "scatter",
         "x": [
          25.1
         ],
         "y": [
          -44.5
         ]
        },
        {
         "marker": {
          "color": "rgba(50, 171, 96, 0.7575757575757576)",
          "line": {
           "width": 1.3
          },
          "opacity": 0.8,
          "size": 12,
          "symbol": "circle"
         },
         "mode": "markers",
         "name": "-42.28",
         "textfont": {
          "color": "#4D5663"
         },
         "type": "scatter",
         "x": [
          24.53
         ],
         "y": [
          -42.28
         ]
        },
        {
         "marker": {
          "color": "rgba(128, 0, 128, 0.7575757575757576)",
          "line": {
           "width": 1.3
          },
          "opacity": 0.8,
          "size": 12,
          "symbol": "circle"
         },
         "mode": "markers",
         "name": "-40.04",
         "textfont": {
          "color": "#4D5663"
         },
         "type": "scatter",
         "x": [
          23.99
         ],
         "y": [
          -40.04
         ]
        },
        {
         "marker": {
          "color": "rgba(219, 64, 82, 0.7575757575757576)",
          "line": {
           "width": 1.3
          },
          "opacity": 0.8,
          "size": 12,
          "symbol": "circle"
         },
         "mode": "markers",
         "name": "-37.78",
         "textfont": {
          "color": "#4D5663"
         },
         "type": "scatter",
         "x": [
          23.48
         ],
         "y": [
          -37.78
         ]
        },
        {
         "marker": {
          "color": "rgba(0, 128, 128, 0.7575757575757576)",
          "line": {
           "width": 1.3
          },
          "opacity": 0.8,
          "size": 12,
          "symbol": "circle"
         },
         "mode": "markers",
         "name": "-35.5",
         "textfont": {
          "color": "#4D5663"
         },
         "type": "scatter",
         "x": [
          22.99
         ],
         "y": [
          -35.5
         ]
        },
        {
         "marker": {
          "color": "rgba(255, 255, 51, 0.7575757575757576)",
          "line": {
           "width": 1.3
          },
          "opacity": 0.8,
          "size": 12,
          "symbol": "circle"
         },
         "mode": "markers",
         "name": "-33.2",
         "textfont": {
          "color": "#4D5663"
         },
         "type": "scatter",
         "x": [
          22.53
         ],
         "y": [
          -33.2
         ]
        },
        {
         "marker": {
          "color": "rgba(255, 255, 51, 0.6767676767676767)",
          "line": {
           "width": 1.3
          },
          "opacity": 0.8,
          "size": 12,
          "symbol": "circle"
         },
         "mode": "markers",
         "name": "-30.88",
         "textfont": {
          "color": "#4D5663"
         },
         "type": "scatter",
         "x": [
          22.09
         ],
         "y": [
          -30.88
         ]
        },
        {
         "marker": {
          "color": "rgba(128, 128, 0, 0.6767676767676767)",
          "line": {
           "width": 1.3
          },
          "opacity": 0.8,
          "size": 12,
          "symbol": "circle"
         },
         "mode": "markers",
         "name": "-28.55",
         "textfont": {
          "color": "#4D5663"
         },
         "type": "scatter",
         "x": [
          21.67
         ],
         "y": [
          -28.55
         ]
        },
        {
         "marker": {
          "color": "rgba(251, 128, 114, 0.6767676767676767)",
          "line": {
           "width": 1.3
          },
          "opacity": 0.8,
          "size": 12,
          "symbol": "circle"
         },
         "mode": "markers",
         "name": "-26.19",
         "textfont": {
          "color": "#4D5663"
         },
         "type": "scatter",
         "x": [
          21.27
         ],
         "y": [
          -26.19
         ]
        },
        {
         "marker": {
          "color": "rgba(128, 177, 211, 0.6767676767676767)",
          "line": {
           "width": 1.3
          },
          "opacity": 0.8,
          "size": 12,
          "symbol": "circle"
         },
         "mode": "markers",
         "name": "-23.83",
         "textfont": {
          "color": "#4D5663"
         },
         "type": "scatter",
         "x": [
          20.89
         ],
         "y": [
          -23.83
         ]
        },
        {
         "marker": {
          "color": "rgba(255, 153, 51, 0.6767676767676767)",
          "line": {
           "width": 1.3
          },
          "opacity": 0.8,
          "size": 12,
          "symbol": "circle"
         },
         "mode": "markers",
         "name": "-21.45",
         "textfont": {
          "color": "#4D5663"
         },
         "type": "scatter",
         "x": [
          20.54
         ],
         "y": [
          -21.45
         ]
        },
        {
         "marker": {
          "color": "rgba(55, 128, 191, 0.6767676767676767)",
          "line": {
           "width": 1.3
          },
          "opacity": 0.8,
          "size": 12,
          "symbol": "circle"
         },
         "mode": "markers",
         "name": "-19.05",
         "textfont": {
          "color": "#4D5663"
         },
         "type": "scatter",
         "x": [
          20.2
         ],
         "y": [
          -19.05
         ]
        },
        {
         "marker": {
          "color": "rgba(50, 171, 96, 0.6767676767676767)",
          "line": {
           "width": 1.3
          },
          "opacity": 0.8,
          "size": 12,
          "symbol": "circle"
         },
         "mode": "markers",
         "name": "-16.65",
         "textfont": {
          "color": "#4D5663"
         },
         "type": "scatter",
         "x": [
          19.87
         ],
         "y": [
          -16.65
         ]
        },
        {
         "marker": {
          "color": "rgba(128, 0, 128, 0.6767676767676767)",
          "line": {
           "width": 1.3
          },
          "opacity": 0.8,
          "size": 12,
          "symbol": "circle"
         },
         "mode": "markers",
         "name": "-14.23",
         "textfont": {
          "color": "#4D5663"
         },
         "type": "scatter",
         "x": [
          19.57
         ],
         "y": [
          -14.23
         ]
        },
        {
         "marker": {
          "color": "rgba(219, 64, 82, 0.6767676767676767)",
          "line": {
           "width": 1.3
          },
          "opacity": 0.8,
          "size": 12,
          "symbol": "circle"
         },
         "mode": "markers",
         "name": "-11.81",
         "textfont": {
          "color": "#4D5663"
         },
         "type": "scatter",
         "x": [
          19.28
         ],
         "y": [
          -11.81
         ]
        },
        {
         "marker": {
          "color": "rgba(0, 128, 128, 0.6767676767676767)",
          "line": {
           "width": 1.3
          },
          "opacity": 0.8,
          "size": 12,
          "symbol": "circle"
         },
         "mode": "markers",
         "name": "-9.37",
         "textfont": {
          "color": "#4D5663"
         },
         "type": "scatter",
         "x": [
          19
         ],
         "y": [
          -9.37
         ]
        },
        {
         "marker": {
          "color": "rgba(0, 128, 128, 0.5959595959595958)",
          "line": {
           "width": 1.3
          },
          "opacity": 0.8,
          "size": 12,
          "symbol": "circle"
         },
         "mode": "markers",
         "name": "-6.93",
         "textfont": {
          "color": "#4D5663"
         },
         "type": "scatter",
         "x": [
          18.74
         ],
         "y": [
          -6.93
         ]
        },
        {
         "marker": {
          "color": "rgba(255, 255, 51, 0.5959595959595958)",
          "line": {
           "width": 1.3
          },
          "opacity": 0.8,
          "size": 12,
          "symbol": "circle"
         },
         "mode": "markers",
         "name": "-4.49",
         "textfont": {
          "color": "#4D5663"
         },
         "type": "scatter",
         "x": [
          18.49
         ],
         "y": [
          -4.49
         ]
        },
        {
         "marker": {
          "color": "rgba(128, 128, 0, 0.5959595959595958)",
          "line": {
           "width": 1.3
          },
          "opacity": 0.8,
          "size": 12,
          "symbol": "circle"
         },
         "mode": "markers",
         "name": "-2.03",
         "textfont": {
          "color": "#4D5663"
         },
         "type": "scatter",
         "x": [
          18.24
         ],
         "y": [
          -2.03
         ]
        },
        {
         "marker": {
          "color": "rgba(251, 128, 114, 0.5959595959595958)",
          "line": {
           "width": 1.3
          },
          "opacity": 0.8,
          "size": 12,
          "symbol": "circle"
         },
         "mode": "markers",
         "name": "0.42",
         "textfont": {
          "color": "#4D5663"
         },
         "type": "scatter",
         "x": [
          18.01
         ],
         "y": [
          0.42
         ]
        },
        {
         "marker": {
          "color": "rgba(128, 177, 211, 0.5959595959595958)",
          "line": {
           "width": 1.3
          },
          "opacity": 0.8,
          "size": 12,
          "symbol": "circle"
         },
         "mode": "markers",
         "name": "2.88",
         "textfont": {
          "color": "#4D5663"
         },
         "type": "scatter",
         "x": [
          17.79
         ],
         "y": [
          2.88
         ]
        },
        {
         "marker": {
          "color": "rgba(255, 153, 51, 0.5959595959595958)",
          "line": {
           "width": 1.3
          },
          "opacity": 0.8,
          "size": 12,
          "symbol": "circle"
         },
         "mode": "markers",
         "name": "5.35",
         "textfont": {
          "color": "#4D5663"
         },
         "type": "scatter",
         "x": [
          17.58
         ],
         "y": [
          5.35
         ]
        },
        {
         "marker": {
          "color": "rgba(55, 128, 191, 0.5959595959595958)",
          "line": {
           "width": 1.3
          },
          "opacity": 0.8,
          "size": 12,
          "symbol": "circle"
         },
         "mode": "markers",
         "name": "7.81",
         "textfont": {
          "color": "#4D5663"
         },
         "type": "scatter",
         "x": [
          17.38
         ],
         "y": [
          7.81
         ]
        },
        {
         "marker": {
          "color": "rgba(50, 171, 96, 0.5959595959595958)",
          "line": {
           "width": 1.3
          },
          "opacity": 0.8,
          "size": 12,
          "symbol": "circle"
         },
         "mode": "markers",
         "name": "10.28",
         "textfont": {
          "color": "#4D5663"
         },
         "type": "scatter",
         "x": [
          17.18
         ],
         "y": [
          10.28
         ]
        },
        {
         "marker": {
          "color": "rgba(128, 0, 128, 0.5959595959595958)",
          "line": {
           "width": 1.3
          },
          "opacity": 0.8,
          "size": 12,
          "symbol": "circle"
         },
         "mode": "markers",
         "name": "12.74",
         "textfont": {
          "color": "#4D5663"
         },
         "type": "scatter",
         "x": [
          16.98
         ],
         "y": [
          12.74
         ]
        },
        {
         "marker": {
          "color": "rgba(219, 64, 82, 0.5959595959595958)",
          "line": {
           "width": 1.3
          },
          "opacity": 0.8,
          "size": 12,
          "symbol": "circle"
         },
         "mode": "markers",
         "name": "15.2",
         "textfont": {
          "color": "#4D5663"
         },
         "type": "scatter",
         "x": [
          16.79
         ],
         "y": [
          15.2
         ]
        },
        {
         "marker": {
          "color": "rgba(219, 64, 82, 0.5151515151515149)",
          "line": {
           "width": 1.3
          },
          "opacity": 0.8,
          "size": 12,
          "symbol": "circle"
         },
         "mode": "markers",
         "name": "17.66",
         "textfont": {
          "color": "#4D5663"
         },
         "type": "scatter",
         "x": [
          16.6
         ],
         "y": [
          17.66
         ]
        },
        {
         "marker": {
          "color": "rgba(0, 128, 128, 0.5151515151515149)",
          "line": {
           "width": 1.3
          },
          "opacity": 0.8,
          "size": 12,
          "symbol": "circle"
         },
         "mode": "markers",
         "name": "20.11",
         "textfont": {
          "color": "#4D5663"
         },
         "type": "scatter",
         "x": [
          16.42
         ],
         "y": [
          20.11
         ]
        },
        {
         "marker": {
          "color": "rgba(255, 255, 51, 0.5151515151515149)",
          "line": {
           "width": 1.3
          },
          "opacity": 0.8,
          "size": 12,
          "symbol": "circle"
         },
         "mode": "markers",
         "name": "22.56",
         "textfont": {
          "color": "#4D5663"
         },
         "type": "scatter",
         "x": [
          16.24
         ],
         "y": [
          22.56
         ]
        },
        {
         "marker": {
          "color": "rgba(128, 128, 0, 0.5151515151515149)",
          "line": {
           "width": 1.3
          },
          "opacity": 0.8,
          "size": 12,
          "symbol": "circle"
         },
         "mode": "markers",
         "name": "25.0",
         "textfont": {
          "color": "#4D5663"
         },
         "type": "scatter",
         "x": [
          16.05
         ],
         "y": [
          25
         ]
        },
        {
         "marker": {
          "color": "rgba(251, 128, 114, 0.5151515151515149)",
          "line": {
           "width": 1.3
          },
          "opacity": 0.8,
          "size": 12,
          "symbol": "circle"
         },
         "mode": "markers",
         "name": "27.44",
         "textfont": {
          "color": "#4D5663"
         },
         "type": "scatter",
         "x": [
          15.87
         ],
         "y": [
          27.44
         ]
        },
        {
         "marker": {
          "color": "rgba(128, 177, 211, 0.5151515151515149)",
          "line": {
           "width": 1.3
          },
          "opacity": 0.8,
          "size": 12,
          "symbol": "circle"
         },
         "mode": "markers",
         "name": "29.87",
         "textfont": {
          "color": "#4D5663"
         },
         "type": "scatter",
         "x": [
          15.68
         ],
         "y": [
          29.87
         ]
        },
        {
         "marker": {
          "color": "rgba(255, 153, 51, 0.5151515151515149)",
          "line": {
           "width": 1.3
          },
          "opacity": 0.8,
          "size": 12,
          "symbol": "circle"
         },
         "mode": "markers",
         "name": "32.29",
         "textfont": {
          "color": "#4D5663"
         },
         "type": "scatter",
         "x": [
          15.49
         ],
         "y": [
          32.29
         ]
        },
        {
         "marker": {
          "color": "rgba(55, 128, 191, 0.5151515151515149)",
          "line": {
           "width": 1.3
          },
          "opacity": 0.8,
          "size": 12,
          "symbol": "circle"
         },
         "mode": "markers",
         "name": "34.69",
         "textfont": {
          "color": "#4D5663"
         },
         "type": "scatter",
         "x": [
          15.3
         ],
         "y": [
          34.69
         ]
        },
        {
         "marker": {
          "color": "rgba(50, 171, 96, 0.5151515151515149)",
          "line": {
           "width": 1.3
          },
          "opacity": 0.8,
          "size": 12,
          "symbol": "circle"
         },
         "mode": "markers",
         "name": "37.09",
         "textfont": {
          "color": "#4D5663"
         },
         "type": "scatter",
         "x": [
          15.1
         ],
         "y": [
          37.09
         ]
        },
        {
         "marker": {
          "color": "rgba(128, 0, 128, 0.5151515151515149)",
          "line": {
           "width": 1.3
          },
          "opacity": 0.8,
          "size": 12,
          "symbol": "circle"
         },
         "mode": "markers",
         "name": "39.48",
         "textfont": {
          "color": "#4D5663"
         },
         "type": "scatter",
         "x": [
          14.9
         ],
         "y": [
          39.48
         ]
        },
        {
         "marker": {
          "color": "rgba(128, 0, 128, 0.4343434343434343)",
          "line": {
           "width": 1.3
          },
          "opacity": 0.8,
          "size": 12,
          "symbol": "circle"
         },
         "mode": "markers",
         "name": "41.85",
         "textfont": {
          "color": "#4D5663"
         },
         "type": "scatter",
         "x": [
          14.68
         ],
         "y": [
          41.85
         ]
        },
        {
         "marker": {
          "color": "rgba(219, 64, 82, 0.4343434343434343)",
          "line": {
           "width": 1.3
          },
          "opacity": 0.8,
          "size": 12,
          "symbol": "circle"
         },
         "mode": "markers",
         "name": "44.2",
         "textfont": {
          "color": "#4D5663"
         },
         "type": "scatter",
         "x": [
          14.47
         ],
         "y": [
          44.2
         ]
        },
        {
         "marker": {
          "color": "rgba(0, 128, 128, 0.4343434343434343)",
          "line": {
           "width": 1.3
          },
          "opacity": 0.8,
          "size": 12,
          "symbol": "circle"
         },
         "mode": "markers",
         "name": "46.54",
         "textfont": {
          "color": "#4D5663"
         },
         "type": "scatter",
         "x": [
          14.24
         ],
         "y": [
          46.54
         ]
        },
        {
         "marker": {
          "color": "rgba(255, 255, 51, 0.4343434343434343)",
          "line": {
           "width": 1.3
          },
          "opacity": 0.8,
          "size": 12,
          "symbol": "circle"
         },
         "mode": "markers",
         "name": "48.87",
         "textfont": {
          "color": "#4D5663"
         },
         "type": "scatter",
         "x": [
          14
         ],
         "y": [
          48.87
         ]
        },
        {
         "marker": {
          "color": "rgba(128, 128, 0, 0.4343434343434343)",
          "line": {
           "width": 1.3
          },
          "opacity": 0.8,
          "size": 12,
          "symbol": "circle"
         },
         "mode": "markers",
         "name": "51.17",
         "textfont": {
          "color": "#4D5663"
         },
         "type": "scatter",
         "x": [
          13.75
         ],
         "y": [
          51.17
         ]
        },
        {
         "marker": {
          "color": "rgba(251, 128, 114, 0.4343434343434343)",
          "line": {
           "width": 1.3
          },
          "opacity": 0.8,
          "size": 12,
          "symbol": "circle"
         },
         "mode": "markers",
         "name": "53.46",
         "textfont": {
          "color": "#4D5663"
         },
         "type": "scatter",
         "x": [
          13.49
         ],
         "y": [
          53.46
         ]
        },
        {
         "marker": {
          "color": "rgba(128, 177, 211, 0.4343434343434343)",
          "line": {
           "width": 1.3
          },
          "opacity": 0.8,
          "size": 12,
          "symbol": "circle"
         },
         "mode": "markers",
         "name": "55.73",
         "textfont": {
          "color": "#4D5663"
         },
         "type": "scatter",
         "x": [
          13.21
         ],
         "y": [
          55.73
         ]
        },
        {
         "marker": {
          "color": "rgba(255, 153, 51, 0.4343434343434343)",
          "line": {
           "width": 1.3
          },
          "opacity": 0.8,
          "size": 12,
          "symbol": "circle"
         },
         "mode": "markers",
         "name": "57.97",
         "textfont": {
          "color": "#4D5663"
         },
         "type": "scatter",
         "x": [
          12.93
         ],
         "y": [
          57.97
         ]
        },
        {
         "marker": {
          "color": "rgba(55, 128, 191, 0.4343434343434343)",
          "line": {
           "width": 1.3
          },
          "opacity": 0.8,
          "size": 12,
          "symbol": "circle"
         },
         "mode": "markers",
         "name": "60.2",
         "textfont": {
          "color": "#4D5663"
         },
         "type": "scatter",
         "x": [
          12.62
         ],
         "y": [
          60.2
         ]
        },
        {
         "marker": {
          "color": "rgba(50, 171, 96, 0.4343434343434343)",
          "line": {
           "width": 1.3
          },
          "opacity": 0.8,
          "size": 12,
          "symbol": "circle"
         },
         "mode": "markers",
         "name": "62.4",
         "textfont": {
          "color": "#4D5663"
         },
         "type": "scatter",
         "x": [
          12.3
         ],
         "y": [
          62.4
         ]
        },
        {
         "marker": {
          "color": "rgba(50, 171, 96, 0.3535353535353534)",
          "line": {
           "width": 1.3
          },
          "opacity": 0.8,
          "size": 12,
          "symbol": "circle"
         },
         "mode": "markers",
         "name": "64.58",
         "textfont": {
          "color": "#4D5663"
         },
         "type": "scatter",
         "x": [
          11.97
         ],
         "y": [
          64.58
         ]
        },
        {
         "marker": {
          "color": "rgba(128, 0, 128, 0.3535353535353534)",
          "line": {
           "width": 1.3
          },
          "opacity": 0.8,
          "size": 12,
          "symbol": "circle"
         },
         "mode": "markers",
         "name": "66.73",
         "textfont": {
          "color": "#4D5663"
         },
         "type": "scatter",
         "x": [
          11.61
         ],
         "y": [
          66.73
         ]
        },
        {
         "marker": {
          "color": "rgba(219, 64, 82, 0.3535353535353534)",
          "line": {
           "width": 1.3
          },
          "opacity": 0.8,
          "size": 12,
          "symbol": "circle"
         },
         "mode": "markers",
         "name": "68.86",
         "textfont": {
          "color": "#4D5663"
         },
         "type": "scatter",
         "x": [
          11.24
         ],
         "y": [
          68.86
         ]
        },
        {
         "marker": {
          "color": "rgba(0, 128, 128, 0.3535353535353534)",
          "line": {
           "width": 1.3
          },
          "opacity": 0.8,
          "size": 12,
          "symbol": "circle"
         },
         "mode": "markers",
         "name": "70.96",
         "textfont": {
          "color": "#4D5663"
         },
         "type": "scatter",
         "x": [
          10.85
         ],
         "y": [
          70.96
         ]
        },
        {
         "marker": {
          "color": "rgba(255, 255, 51, 0.3535353535353534)",
          "line": {
           "width": 1.3
          },
          "opacity": 0.8,
          "size": 12,
          "symbol": "circle"
         },
         "mode": "markers",
         "name": "73.03",
         "textfont": {
          "color": "#4D5663"
         },
         "type": "scatter",
         "x": [
          10.43
         ],
         "y": [
          73.03
         ]
        },
        {
         "marker": {
          "color": "rgba(128, 128, 0, 0.3535353535353534)",
          "line": {
           "width": 1.3
          },
          "opacity": 0.8,
          "size": 12,
          "symbol": "circle"
         },
         "mode": "markers",
         "name": "75.07",
         "textfont": {
          "color": "#4D5663"
         },
         "type": "scatter",
         "x": [
          10
         ],
         "y": [
          75.07
         ]
        },
        {
         "marker": {
          "color": "rgba(251, 128, 114, 0.3535353535353534)",
          "line": {
           "width": 1.3
          },
          "opacity": 0.8,
          "size": 12,
          "symbol": "circle"
         },
         "mode": "markers",
         "name": "77.08",
         "textfont": {
          "color": "#4D5663"
         },
         "type": "scatter",
         "x": [
          9.54
         ],
         "y": [
          77.08
         ]
        },
        {
         "marker": {
          "color": "rgba(128, 177, 211, 0.3535353535353534)",
          "line": {
           "width": 1.3
          },
          "opacity": 0.8,
          "size": 12,
          "symbol": "circle"
         },
         "mode": "markers",
         "name": "79.06",
         "textfont": {
          "color": "#4D5663"
         },
         "type": "scatter",
         "x": [
          9.05
         ],
         "y": [
          79.06
         ]
        },
        {
         "marker": {
          "color": "rgba(255, 153, 51, 0.3535353535353534)",
          "line": {
           "width": 1.3
          },
          "opacity": 0.8,
          "size": 12,
          "symbol": "circle"
         },
         "mode": "markers",
         "name": "81.01",
         "textfont": {
          "color": "#4D5663"
         },
         "type": "scatter",
         "x": [
          8.54
         ],
         "y": [
          81.01
         ]
        },
        {
         "marker": {
          "color": "rgba(55, 128, 191, 0.3535353535353534)",
          "line": {
           "width": 1.3
          },
          "opacity": 0.8,
          "size": 12,
          "symbol": "circle"
         },
         "mode": "markers",
         "name": "82.93",
         "textfont": {
          "color": "#4D5663"
         },
         "type": "scatter",
         "x": [
          8.01
         ],
         "y": [
          82.93
         ]
        },
        {
         "marker": {
          "color": "rgba(55, 128, 191, 0.27272727272727254)",
          "line": {
           "width": 1.3
          },
          "opacity": 0.8,
          "size": 12,
          "symbol": "circle"
         },
         "mode": "markers",
         "name": "84.81",
         "textfont": {
          "color": "#4D5663"
         },
         "type": "scatter",
         "x": [
          7.45
         ],
         "y": [
          84.81
         ]
        },
        {
         "marker": {
          "color": "rgba(50, 171, 96, 0.27272727272727254)",
          "line": {
           "width": 1.3
          },
          "opacity": 0.8,
          "size": 12,
          "symbol": "circle"
         },
         "mode": "markers",
         "name": "86.65",
         "textfont": {
          "color": "#4D5663"
         },
         "type": "scatter",
         "x": [
          6.86
         ],
         "y": [
          86.65
         ]
        },
        {
         "marker": {
          "color": "rgba(128, 0, 128, 0.27272727272727254)",
          "line": {
           "width": 1.3
          },
          "opacity": 0.8,
          "size": 12,
          "symbol": "circle"
         },
         "mode": "markers",
         "name": "88.46",
         "textfont": {
          "color": "#4D5663"
         },
         "type": "scatter",
         "x": [
          6.24
         ],
         "y": [
          88.46
         ]
        },
        {
         "marker": {
          "color": "rgba(219, 64, 82, 0.27272727272727254)",
          "line": {
           "width": 1.3
          },
          "opacity": 0.8,
          "size": 12,
          "symbol": "circle"
         },
         "mode": "markers",
         "name": "90.23",
         "textfont": {
          "color": "#4D5663"
         },
         "type": "scatter",
         "x": [
          5.59
         ],
         "y": [
          90.23
         ]
        },
        {
         "marker": {
          "color": "rgba(0, 128, 128, 0.27272727272727254)",
          "line": {
           "width": 1.3
          },
          "opacity": 0.8,
          "size": 12,
          "symbol": "circle"
         },
         "mode": "markers",
         "name": "91.96",
         "textfont": {
          "color": "#4D5663"
         },
         "type": "scatter",
         "x": [
          4.91
         ],
         "y": [
          91.96
         ]
        },
        {
         "marker": {
          "color": "rgba(255, 255, 51, 0.27272727272727254)",
          "line": {
           "width": 1.3
          },
          "opacity": 0.8,
          "size": 12,
          "symbol": "circle"
         },
         "mode": "markers",
         "name": "93.65",
         "textfont": {
          "color": "#4D5663"
         },
         "type": "scatter",
         "x": [
          4.19
         ],
         "y": [
          93.65
         ]
        },
        {
         "marker": {
          "color": "rgba(128, 128, 0, 0.27272727272727254)",
          "line": {
           "width": 1.3
          },
          "opacity": 0.8,
          "size": 12,
          "symbol": "circle"
         },
         "mode": "markers",
         "name": "95.3",
         "textfont": {
          "color": "#4D5663"
         },
         "type": "scatter",
         "x": [
          3.45
         ],
         "y": [
          95.3
         ]
        },
        {
         "marker": {
          "color": "rgba(251, 128, 114, 0.27272727272727254)",
          "line": {
           "width": 1.3
          },
          "opacity": 0.8,
          "size": 12,
          "symbol": "circle"
         },
         "mode": "markers",
         "name": "96.91",
         "textfont": {
          "color": "#4D5663"
         },
         "type": "scatter",
         "x": [
          2.67
         ],
         "y": [
          96.91
         ]
        },
        {
         "marker": {
          "color": "rgba(128, 177, 211, 0.27272727272727254)",
          "line": {
           "width": 1.3
          },
          "opacity": 0.8,
          "size": 12,
          "symbol": "circle"
         },
         "mode": "markers",
         "name": "98.48",
         "textfont": {
          "color": "#4D5663"
         },
         "type": "scatter",
         "x": [
          1.85
         ],
         "y": [
          98.48
         ]
        }
       ],
       "layout": {
        "legend": {
         "bgcolor": "#F5F6F9",
         "font": {
          "color": "#4D5663"
         }
        },
        "paper_bgcolor": "#F5F6F9",
        "plot_bgcolor": "#F5F6F9",
        "template": {
         "data": {
          "bar": [
           {
            "error_x": {
             "color": "#2a3f5f"
            },
            "error_y": {
             "color": "#2a3f5f"
            },
            "marker": {
             "line": {
              "color": "#E5ECF6",
              "width": 0.5
             }
            },
            "type": "bar"
           }
          ],
          "barpolar": [
           {
            "marker": {
             "line": {
              "color": "#E5ECF6",
              "width": 0.5
             }
            },
            "type": "barpolar"
           }
          ],
          "carpet": [
           {
            "aaxis": {
             "endlinecolor": "#2a3f5f",
             "gridcolor": "white",
             "linecolor": "white",
             "minorgridcolor": "white",
             "startlinecolor": "#2a3f5f"
            },
            "baxis": {
             "endlinecolor": "#2a3f5f",
             "gridcolor": "white",
             "linecolor": "white",
             "minorgridcolor": "white",
             "startlinecolor": "#2a3f5f"
            },
            "type": "carpet"
           }
          ],
          "choropleth": [
           {
            "colorbar": {
             "outlinewidth": 0,
             "ticks": ""
            },
            "type": "choropleth"
           }
          ],
          "contour": [
           {
            "colorbar": {
             "outlinewidth": 0,
             "ticks": ""
            },
            "colorscale": [
             [
              0,
              "#0d0887"
             ],
             [
              0.1111111111111111,
              "#46039f"
             ],
             [
              0.2222222222222222,
              "#7201a8"
             ],
             [
              0.3333333333333333,
              "#9c179e"
             ],
             [
              0.4444444444444444,
              "#bd3786"
             ],
             [
              0.5555555555555556,
              "#d8576b"
             ],
             [
              0.6666666666666666,
              "#ed7953"
             ],
             [
              0.7777777777777778,
              "#fb9f3a"
             ],
             [
              0.8888888888888888,
              "#fdca26"
             ],
             [
              1,
              "#f0f921"
             ]
            ],
            "type": "contour"
           }
          ],
          "contourcarpet": [
           {
            "colorbar": {
             "outlinewidth": 0,
             "ticks": ""
            },
            "type": "contourcarpet"
           }
          ],
          "heatmap": [
           {
            "colorbar": {
             "outlinewidth": 0,
             "ticks": ""
            },
            "colorscale": [
             [
              0,
              "#0d0887"
             ],
             [
              0.1111111111111111,
              "#46039f"
             ],
             [
              0.2222222222222222,
              "#7201a8"
             ],
             [
              0.3333333333333333,
              "#9c179e"
             ],
             [
              0.4444444444444444,
              "#bd3786"
             ],
             [
              0.5555555555555556,
              "#d8576b"
             ],
             [
              0.6666666666666666,
              "#ed7953"
             ],
             [
              0.7777777777777778,
              "#fb9f3a"
             ],
             [
              0.8888888888888888,
              "#fdca26"
             ],
             [
              1,
              "#f0f921"
             ]
            ],
            "type": "heatmap"
           }
          ],
          "heatmapgl": [
           {
            "colorbar": {
             "outlinewidth": 0,
             "ticks": ""
            },
            "colorscale": [
             [
              0,
              "#0d0887"
             ],
             [
              0.1111111111111111,
              "#46039f"
             ],
             [
              0.2222222222222222,
              "#7201a8"
             ],
             [
              0.3333333333333333,
              "#9c179e"
             ],
             [
              0.4444444444444444,
              "#bd3786"
             ],
             [
              0.5555555555555556,
              "#d8576b"
             ],
             [
              0.6666666666666666,
              "#ed7953"
             ],
             [
              0.7777777777777778,
              "#fb9f3a"
             ],
             [
              0.8888888888888888,
              "#fdca26"
             ],
             [
              1,
              "#f0f921"
             ]
            ],
            "type": "heatmapgl"
           }
          ],
          "histogram": [
           {
            "marker": {
             "colorbar": {
              "outlinewidth": 0,
              "ticks": ""
             }
            },
            "type": "histogram"
           }
          ],
          "histogram2d": [
           {
            "colorbar": {
             "outlinewidth": 0,
             "ticks": ""
            },
            "colorscale": [
             [
              0,
              "#0d0887"
             ],
             [
              0.1111111111111111,
              "#46039f"
             ],
             [
              0.2222222222222222,
              "#7201a8"
             ],
             [
              0.3333333333333333,
              "#9c179e"
             ],
             [
              0.4444444444444444,
              "#bd3786"
             ],
             [
              0.5555555555555556,
              "#d8576b"
             ],
             [
              0.6666666666666666,
              "#ed7953"
             ],
             [
              0.7777777777777778,
              "#fb9f3a"
             ],
             [
              0.8888888888888888,
              "#fdca26"
             ],
             [
              1,
              "#f0f921"
             ]
            ],
            "type": "histogram2d"
           }
          ],
          "histogram2dcontour": [
           {
            "colorbar": {
             "outlinewidth": 0,
             "ticks": ""
            },
            "colorscale": [
             [
              0,
              "#0d0887"
             ],
             [
              0.1111111111111111,
              "#46039f"
             ],
             [
              0.2222222222222222,
              "#7201a8"
             ],
             [
              0.3333333333333333,
              "#9c179e"
             ],
             [
              0.4444444444444444,
              "#bd3786"
             ],
             [
              0.5555555555555556,
              "#d8576b"
             ],
             [
              0.6666666666666666,
              "#ed7953"
             ],
             [
              0.7777777777777778,
              "#fb9f3a"
             ],
             [
              0.8888888888888888,
              "#fdca26"
             ],
             [
              1,
              "#f0f921"
             ]
            ],
            "type": "histogram2dcontour"
           }
          ],
          "mesh3d": [
           {
            "colorbar": {
             "outlinewidth": 0,
             "ticks": ""
            },
            "type": "mesh3d"
           }
          ],
          "parcoords": [
           {
            "line": {
             "colorbar": {
              "outlinewidth": 0,
              "ticks": ""
             }
            },
            "type": "parcoords"
           }
          ],
          "pie": [
           {
            "automargin": true,
            "type": "pie"
           }
          ],
          "scatter": [
           {
            "marker": {
             "colorbar": {
              "outlinewidth": 0,
              "ticks": ""
             }
            },
            "type": "scatter"
           }
          ],
          "scatter3d": [
           {
            "line": {
             "colorbar": {
              "outlinewidth": 0,
              "ticks": ""
             }
            },
            "marker": {
             "colorbar": {
              "outlinewidth": 0,
              "ticks": ""
             }
            },
            "type": "scatter3d"
           }
          ],
          "scattercarpet": [
           {
            "marker": {
             "colorbar": {
              "outlinewidth": 0,
              "ticks": ""
             }
            },
            "type": "scattercarpet"
           }
          ],
          "scattergeo": [
           {
            "marker": {
             "colorbar": {
              "outlinewidth": 0,
              "ticks": ""
             }
            },
            "type": "scattergeo"
           }
          ],
          "scattergl": [
           {
            "marker": {
             "colorbar": {
              "outlinewidth": 0,
              "ticks": ""
             }
            },
            "type": "scattergl"
           }
          ],
          "scattermapbox": [
           {
            "marker": {
             "colorbar": {
              "outlinewidth": 0,
              "ticks": ""
             }
            },
            "type": "scattermapbox"
           }
          ],
          "scatterpolar": [
           {
            "marker": {
             "colorbar": {
              "outlinewidth": 0,
              "ticks": ""
             }
            },
            "type": "scatterpolar"
           }
          ],
          "scatterpolargl": [
           {
            "marker": {
             "colorbar": {
              "outlinewidth": 0,
              "ticks": ""
             }
            },
            "type": "scatterpolargl"
           }
          ],
          "scatterternary": [
           {
            "marker": {
             "colorbar": {
              "outlinewidth": 0,
              "ticks": ""
             }
            },
            "type": "scatterternary"
           }
          ],
          "surface": [
           {
            "colorbar": {
             "outlinewidth": 0,
             "ticks": ""
            },
            "colorscale": [
             [
              0,
              "#0d0887"
             ],
             [
              0.1111111111111111,
              "#46039f"
             ],
             [
              0.2222222222222222,
              "#7201a8"
             ],
             [
              0.3333333333333333,
              "#9c179e"
             ],
             [
              0.4444444444444444,
              "#bd3786"
             ],
             [
              0.5555555555555556,
              "#d8576b"
             ],
             [
              0.6666666666666666,
              "#ed7953"
             ],
             [
              0.7777777777777778,
              "#fb9f3a"
             ],
             [
              0.8888888888888888,
              "#fdca26"
             ],
             [
              1,
              "#f0f921"
             ]
            ],
            "type": "surface"
           }
          ],
          "table": [
           {
            "cells": {
             "fill": {
              "color": "#EBF0F8"
             },
             "line": {
              "color": "white"
             }
            },
            "header": {
             "fill": {
              "color": "#C8D4E3"
             },
             "line": {
              "color": "white"
             }
            },
            "type": "table"
           }
          ]
         },
         "layout": {
          "annotationdefaults": {
           "arrowcolor": "#2a3f5f",
           "arrowhead": 0,
           "arrowwidth": 1
          },
          "autotypenumbers": "strict",
          "coloraxis": {
           "colorbar": {
            "outlinewidth": 0,
            "ticks": ""
           }
          },
          "colorscale": {
           "diverging": [
            [
             0,
             "#8e0152"
            ],
            [
             0.1,
             "#c51b7d"
            ],
            [
             0.2,
             "#de77ae"
            ],
            [
             0.3,
             "#f1b6da"
            ],
            [
             0.4,
             "#fde0ef"
            ],
            [
             0.5,
             "#f7f7f7"
            ],
            [
             0.6,
             "#e6f5d0"
            ],
            [
             0.7,
             "#b8e186"
            ],
            [
             0.8,
             "#7fbc41"
            ],
            [
             0.9,
             "#4d9221"
            ],
            [
             1,
             "#276419"
            ]
           ],
           "sequential": [
            [
             0,
             "#0d0887"
            ],
            [
             0.1111111111111111,
             "#46039f"
            ],
            [
             0.2222222222222222,
             "#7201a8"
            ],
            [
             0.3333333333333333,
             "#9c179e"
            ],
            [
             0.4444444444444444,
             "#bd3786"
            ],
            [
             0.5555555555555556,
             "#d8576b"
            ],
            [
             0.6666666666666666,
             "#ed7953"
            ],
            [
             0.7777777777777778,
             "#fb9f3a"
            ],
            [
             0.8888888888888888,
             "#fdca26"
            ],
            [
             1,
             "#f0f921"
            ]
           ],
           "sequentialminus": [
            [
             0,
             "#0d0887"
            ],
            [
             0.1111111111111111,
             "#46039f"
            ],
            [
             0.2222222222222222,
             "#7201a8"
            ],
            [
             0.3333333333333333,
             "#9c179e"
            ],
            [
             0.4444444444444444,
             "#bd3786"
            ],
            [
             0.5555555555555556,
             "#d8576b"
            ],
            [
             0.6666666666666666,
             "#ed7953"
            ],
            [
             0.7777777777777778,
             "#fb9f3a"
            ],
            [
             0.8888888888888888,
             "#fdca26"
            ],
            [
             1,
             "#f0f921"
            ]
           ]
          },
          "colorway": [
           "#636efa",
           "#EF553B",
           "#00cc96",
           "#ab63fa",
           "#FFA15A",
           "#19d3f3",
           "#FF6692",
           "#B6E880",
           "#FF97FF",
           "#FECB52"
          ],
          "font": {
           "color": "#2a3f5f"
          },
          "geo": {
           "bgcolor": "white",
           "lakecolor": "white",
           "landcolor": "#E5ECF6",
           "showlakes": true,
           "showland": true,
           "subunitcolor": "white"
          },
          "hoverlabel": {
           "align": "left"
          },
          "hovermode": "closest",
          "mapbox": {
           "style": "light"
          },
          "paper_bgcolor": "white",
          "plot_bgcolor": "#E5ECF6",
          "polar": {
           "angularaxis": {
            "gridcolor": "white",
            "linecolor": "white",
            "ticks": ""
           },
           "bgcolor": "#E5ECF6",
           "radialaxis": {
            "gridcolor": "white",
            "linecolor": "white",
            "ticks": ""
           }
          },
          "scene": {
           "xaxis": {
            "backgroundcolor": "#E5ECF6",
            "gridcolor": "white",
            "gridwidth": 2,
            "linecolor": "white",
            "showbackground": true,
            "ticks": "",
            "zerolinecolor": "white"
           },
           "yaxis": {
            "backgroundcolor": "#E5ECF6",
            "gridcolor": "white",
            "gridwidth": 2,
            "linecolor": "white",
            "showbackground": true,
            "ticks": "",
            "zerolinecolor": "white"
           },
           "zaxis": {
            "backgroundcolor": "#E5ECF6",
            "gridcolor": "white",
            "gridwidth": 2,
            "linecolor": "white",
            "showbackground": true,
            "ticks": "",
            "zerolinecolor": "white"
           }
          },
          "shapedefaults": {
           "line": {
            "color": "#2a3f5f"
           }
          },
          "ternary": {
           "aaxis": {
            "gridcolor": "white",
            "linecolor": "white",
            "ticks": ""
           },
           "baxis": {
            "gridcolor": "white",
            "linecolor": "white",
            "ticks": ""
           },
           "bgcolor": "#E5ECF6",
           "caxis": {
            "gridcolor": "white",
            "linecolor": "white",
            "ticks": ""
           }
          },
          "title": {
           "x": 0.05
          },
          "xaxis": {
           "automargin": true,
           "gridcolor": "white",
           "linecolor": "white",
           "ticks": "",
           "title": {
            "standoff": 15
           },
           "zerolinecolor": "white",
           "zerolinewidth": 2
          },
          "yaxis": {
           "automargin": true,
           "gridcolor": "white",
           "linecolor": "white",
           "ticks": "",
           "title": {
            "standoff": 15
           },
           "zerolinecolor": "white",
           "zerolinewidth": 2
          }
         }
        },
        "title": {
         "font": {
          "color": "#4D5663"
         },
         "text": "Earth Reserve Index Policy Curve Data Points"
        },
        "xaxis": {
         "gridcolor": "#E1E5ED",
         "showgrid": true,
         "tickfont": {
          "color": "#4D5663"
         },
         "title": {
          "font": {
           "color": "#4D5663"
          },
          "text": "Percentage Each Indicator Has Changed from Base Year Level to Worst/Best Case Scenario"
         },
         "zerolinecolor": "#E1E5ED"
        },
        "yaxis": {
         "gridcolor": "#E1E5ED",
         "showgrid": true,
         "tickfont": {
          "color": "#4D5663"
         },
         "title": {
          "font": {
           "color": "#4D5663"
          },
          "text": "Resource & Ecosystem Degradation Index"
         },
         "zerolinecolor": "#E1E5ED"
        }
       }
      },
      "text/html": [
       "<div>                            <div id=\"7076a7bc-ed0a-4191-b53d-c2b7a4bd65a5\" class=\"plotly-graph-div\" style=\"height:525px; width:100%;\"></div>            <script type=\"text/javascript\">                require([\"plotly\"], function(Plotly) {                    window.PLOTLYENV=window.PLOTLYENV || {};\n",
       "                    window.PLOTLYENV.BASE_URL='https://plot.ly';                                    if (document.getElementById(\"7076a7bc-ed0a-4191-b53d-c2b7a4bd65a5\")) {                    Plotly.newPlot(                        \"7076a7bc-ed0a-4191-b53d-c2b7a4bd65a5\",                        [{\"marker\": {\"color\": \"rgba(255, 153, 51, 1.0)\", \"line\": {\"width\": 1.3}, \"opacity\": 0.8, \"size\": 12, \"symbol\": \"circle\"}, \"mode\": \"markers\", \"name\": \"-99.22\", \"textfont\": {\"color\": \"#4D5663\"}, \"type\": \"scatter\", \"x\": [67.84], \"y\": [-99.22]}, {\"marker\": {\"color\": \"rgba(55, 128, 191, 1.0)\", \"line\": {\"width\": 1.3}, \"opacity\": 0.8, \"size\": 12, \"symbol\": \"circle\"}, \"mode\": \"markers\", \"name\": \"-98.38\", \"textfont\": {\"color\": \"#4D5663\"}, \"type\": \"scatter\", \"x\": [65.75], \"y\": [-98.38]}, {\"marker\": {\"color\": \"rgba(50, 171, 96, 1.0)\", \"line\": {\"width\": 1.3}, \"opacity\": 0.8, \"size\": 12, \"symbol\": \"circle\"}, \"mode\": \"markers\", \"name\": \"-97.48\", \"textfont\": {\"color\": \"#4D5663\"}, \"type\": \"scatter\", \"x\": [63.71], \"y\": [-97.48]}, {\"marker\": {\"color\": \"rgba(128, 0, 128, 1.0)\", \"line\": {\"width\": 1.3}, \"opacity\": 0.8, \"size\": 12, \"symbol\": \"circle\"}, \"mode\": \"markers\", \"name\": \"-96.53\", \"textfont\": {\"color\": \"#4D5663\"}, \"type\": \"scatter\", \"x\": [61.74], \"y\": [-96.53]}, {\"marker\": {\"color\": \"rgba(219, 64, 82, 1.0)\", \"line\": {\"width\": 1.3}, \"opacity\": 0.8, \"size\": 12, \"symbol\": \"circle\"}, \"mode\": \"markers\", \"name\": \"-95.52\", \"textfont\": {\"color\": \"#4D5663\"}, \"type\": \"scatter\", \"x\": [59.82], \"y\": [-95.52]}, {\"marker\": {\"color\": \"rgba(0, 128, 128, 1.0)\", \"line\": {\"width\": 1.3}, \"opacity\": 0.8, \"size\": 12, \"symbol\": \"circle\"}, \"mode\": \"markers\", \"name\": \"-94.46\", \"textfont\": {\"color\": \"#4D5663\"}, \"type\": \"scatter\", \"x\": [57.97], \"y\": [-94.46]}, {\"marker\": {\"color\": \"rgba(255, 255, 51, 1.0)\", \"line\": {\"width\": 1.3}, \"opacity\": 0.8, \"size\": 12, \"symbol\": \"circle\"}, \"mode\": \"markers\", \"name\": \"-93.34\", \"textfont\": {\"color\": \"#4D5663\"}, \"type\": \"scatter\", \"x\": [56.17], \"y\": [-93.34]}, {\"marker\": {\"color\": \"rgba(128, 128, 0, 1.0)\", \"line\": {\"width\": 1.3}, \"opacity\": 0.8, \"size\": 12, \"symbol\": \"circle\"}, \"mode\": \"markers\", \"name\": \"-92.17\", \"textfont\": {\"color\": \"#4D5663\"}, \"type\": \"scatter\", \"x\": [54.43], \"y\": [-92.17]}, {\"marker\": {\"color\": \"rgba(251, 128, 114, 1.0)\", \"line\": {\"width\": 1.3}, \"opacity\": 0.8, \"size\": 12, \"symbol\": \"circle\"}, \"mode\": \"markers\", \"name\": \"-90.95\", \"textfont\": {\"color\": \"#4D5663\"}, \"type\": \"scatter\", \"x\": [52.74], \"y\": [-90.95]}, {\"marker\": {\"color\": \"rgba(128, 177, 211, 1.0)\", \"line\": {\"width\": 1.3}, \"opacity\": 0.8, \"size\": 12, \"symbol\": \"circle\"}, \"mode\": \"markers\", \"name\": \"-89.68\", \"textfont\": {\"color\": \"#4D5663\"}, \"type\": \"scatter\", \"x\": [51.11], \"y\": [-89.68]}, {\"marker\": {\"color\": \"rgba(128, 177, 211, 0.9191919191919191)\", \"line\": {\"width\": 1.3}, \"opacity\": 0.8, \"size\": 12, \"symbol\": \"circle\"}, \"mode\": \"markers\", \"name\": \"-88.35\", \"textfont\": {\"color\": \"#4D5663\"}, \"type\": \"scatter\", \"x\": [49.53], \"y\": [-88.35]}, {\"marker\": {\"color\": \"rgba(255, 153, 51, 0.9191919191919191)\", \"line\": {\"width\": 1.3}, \"opacity\": 0.8, \"size\": 12, \"symbol\": \"circle\"}, \"mode\": \"markers\", \"name\": \"-86.98\", \"textfont\": {\"color\": \"#4D5663\"}, \"type\": \"scatter\", \"x\": [48.01], \"y\": [-86.98]}, {\"marker\": {\"color\": \"rgba(55, 128, 191, 0.9191919191919191)\", \"line\": {\"width\": 1.3}, \"opacity\": 0.8, \"size\": 12, \"symbol\": \"circle\"}, \"mode\": \"markers\", \"name\": \"-85.56\", \"textfont\": {\"color\": \"#4D5663\"}, \"type\": \"scatter\", \"x\": [46.54], \"y\": [-85.56]}, {\"marker\": {\"color\": \"rgba(50, 171, 96, 0.9191919191919191)\", \"line\": {\"width\": 1.3}, \"opacity\": 0.8, \"size\": 12, \"symbol\": \"circle\"}, \"mode\": \"markers\", \"name\": \"-84.1\", \"textfont\": {\"color\": \"#4D5663\"}, \"type\": \"scatter\", \"x\": [45.11], \"y\": [-84.1]}, {\"marker\": {\"color\": \"rgba(128, 0, 128, 0.9191919191919191)\", \"line\": {\"width\": 1.3}, \"opacity\": 0.8, \"size\": 12, \"symbol\": \"circle\"}, \"mode\": \"markers\", \"name\": \"-82.59\", \"textfont\": {\"color\": \"#4D5663\"}, \"type\": \"scatter\", \"x\": [43.74], \"y\": [-82.59]}, {\"marker\": {\"color\": \"rgba(219, 64, 82, 0.9191919191919191)\", \"line\": {\"width\": 1.3}, \"opacity\": 0.8, \"size\": 12, \"symbol\": \"circle\"}, \"mode\": \"markers\", \"name\": \"-81.04\", \"textfont\": {\"color\": \"#4D5663\"}, \"type\": \"scatter\", \"x\": [42.41], \"y\": [-81.04]}, {\"marker\": {\"color\": \"rgba(0, 128, 128, 0.9191919191919191)\", \"line\": {\"width\": 1.3}, \"opacity\": 0.8, \"size\": 12, \"symbol\": \"circle\"}, \"mode\": \"markers\", \"name\": \"-79.44\", \"textfont\": {\"color\": \"#4D5663\"}, \"type\": \"scatter\", \"x\": [41.13], \"y\": [-79.44]}, {\"marker\": {\"color\": \"rgba(255, 255, 51, 0.9191919191919191)\", \"line\": {\"width\": 1.3}, \"opacity\": 0.8, \"size\": 12, \"symbol\": \"circle\"}, \"mode\": \"markers\", \"name\": \"-77.8\", \"textfont\": {\"color\": \"#4D5663\"}, \"type\": \"scatter\", \"x\": [39.9], \"y\": [-77.8]}, {\"marker\": {\"color\": \"rgba(128, 128, 0, 0.9191919191919191)\", \"line\": {\"width\": 1.3}, \"opacity\": 0.8, \"size\": 12, \"symbol\": \"circle\"}, \"mode\": \"markers\", \"name\": \"-76.12\", \"textfont\": {\"color\": \"#4D5663\"}, \"type\": \"scatter\", \"x\": [38.72], \"y\": [-76.12]}, {\"marker\": {\"color\": \"rgba(251, 128, 114, 0.9191919191919191)\", \"line\": {\"width\": 1.3}, \"opacity\": 0.8, \"size\": 12, \"symbol\": \"circle\"}, \"mode\": \"markers\", \"name\": \"-74.4\", \"textfont\": {\"color\": \"#4D5663\"}, \"type\": \"scatter\", \"x\": [37.58], \"y\": [-74.4]}, {\"marker\": {\"color\": \"rgba(251, 128, 114, 0.8383838383838382)\", \"line\": {\"width\": 1.3}, \"opacity\": 0.8, \"size\": 12, \"symbol\": \"circle\"}, \"mode\": \"markers\", \"name\": \"-72.64\", \"textfont\": {\"color\": \"#4D5663\"}, \"type\": \"scatter\", \"x\": [36.48], \"y\": [-72.64]}, {\"marker\": {\"color\": \"rgba(128, 177, 211, 0.8383838383838382)\", \"line\": {\"width\": 1.3}, \"opacity\": 0.8, \"size\": 12, \"symbol\": \"circle\"}, \"mode\": \"markers\", \"name\": \"-70.84\", \"textfont\": {\"color\": \"#4D5663\"}, \"type\": \"scatter\", \"x\": [35.42], \"y\": [-70.84]}, {\"marker\": {\"color\": \"rgba(255, 153, 51, 0.8383838383838382)\", \"line\": {\"width\": 1.3}, \"opacity\": 0.8, \"size\": 12, \"symbol\": \"circle\"}, \"mode\": \"markers\", \"name\": \"-69.01\", \"textfont\": {\"color\": \"#4D5663\"}, \"type\": \"scatter\", \"x\": [34.41], \"y\": [-69.01]}, {\"marker\": {\"color\": \"rgba(55, 128, 191, 0.8383838383838382)\", \"line\": {\"width\": 1.3}, \"opacity\": 0.8, \"size\": 12, \"symbol\": \"circle\"}, \"mode\": \"markers\", \"name\": \"-67.14\", \"textfont\": {\"color\": \"#4D5663\"}, \"type\": \"scatter\", \"x\": [33.43], \"y\": [-67.14]}, {\"marker\": {\"color\": \"rgba(50, 171, 96, 0.8383838383838382)\", \"line\": {\"width\": 1.3}, \"opacity\": 0.8, \"size\": 12, \"symbol\": \"circle\"}, \"mode\": \"markers\", \"name\": \"-65.23\", \"textfont\": {\"color\": \"#4D5663\"}, \"type\": \"scatter\", \"x\": [32.5], \"y\": [-65.23]}, {\"marker\": {\"color\": \"rgba(128, 0, 128, 0.8383838383838382)\", \"line\": {\"width\": 1.3}, \"opacity\": 0.8, \"size\": 12, \"symbol\": \"circle\"}, \"mode\": \"markers\", \"name\": \"-63.3\", \"textfont\": {\"color\": \"#4D5663\"}, \"type\": \"scatter\", \"x\": [31.6], \"y\": [-63.3]}, {\"marker\": {\"color\": \"rgba(219, 64, 82, 0.8383838383838382)\", \"line\": {\"width\": 1.3}, \"opacity\": 0.8, \"size\": 12, \"symbol\": \"circle\"}, \"mode\": \"markers\", \"name\": \"-61.32\", \"textfont\": {\"color\": \"#4D5663\"}, \"type\": \"scatter\", \"x\": [30.75], \"y\": [-61.32]}, {\"marker\": {\"color\": \"rgba(0, 128, 128, 0.8383838383838382)\", \"line\": {\"width\": 1.3}, \"opacity\": 0.8, \"size\": 12, \"symbol\": \"circle\"}, \"mode\": \"markers\", \"name\": \"-59.32\", \"textfont\": {\"color\": \"#4D5663\"}, \"type\": \"scatter\", \"x\": [29.92], \"y\": [-59.32]}, {\"marker\": {\"color\": \"rgba(255, 255, 51, 0.8383838383838382)\", \"line\": {\"width\": 1.3}, \"opacity\": 0.8, \"size\": 12, \"symbol\": \"circle\"}, \"mode\": \"markers\", \"name\": \"-57.29\", \"textfont\": {\"color\": \"#4D5663\"}, \"type\": \"scatter\", \"x\": [29.14], \"y\": [-57.29]}, {\"marker\": {\"color\": \"rgba(128, 128, 0, 0.8383838383838382)\", \"line\": {\"width\": 1.3}, \"opacity\": 0.8, \"size\": 12, \"symbol\": \"circle\"}, \"mode\": \"markers\", \"name\": \"-55.23\", \"textfont\": {\"color\": \"#4D5663\"}, \"type\": \"scatter\", \"x\": [28.38], \"y\": [-55.23]}, {\"marker\": {\"color\": \"rgba(128, 128, 0, 0.7575757575757576)\", \"line\": {\"width\": 1.3}, \"opacity\": 0.8, \"size\": 12, \"symbol\": \"circle\"}, \"mode\": \"markers\", \"name\": \"-53.13\", \"textfont\": {\"color\": \"#4D5663\"}, \"type\": \"scatter\", \"x\": [27.66], \"y\": [-53.13]}, {\"marker\": {\"color\": \"rgba(251, 128, 114, 0.7575757575757576)\", \"line\": {\"width\": 1.3}, \"opacity\": 0.8, \"size\": 12, \"symbol\": \"circle\"}, \"mode\": \"markers\", \"name\": \"-51.01\", \"textfont\": {\"color\": \"#4D5663\"}, \"type\": \"scatter\", \"x\": [26.98], \"y\": [-51.01]}, {\"marker\": {\"color\": \"rgba(128, 177, 211, 0.7575757575757576)\", \"line\": {\"width\": 1.3}, \"opacity\": 0.8, \"size\": 12, \"symbol\": \"circle\"}, \"mode\": \"markers\", \"name\": \"-48.87\", \"textfont\": {\"color\": \"#4D5663\"}, \"type\": \"scatter\", \"x\": [26.32], \"y\": [-48.87]}, {\"marker\": {\"color\": \"rgba(255, 153, 51, 0.7575757575757576)\", \"line\": {\"width\": 1.3}, \"opacity\": 0.8, \"size\": 12, \"symbol\": \"circle\"}, \"mode\": \"markers\", \"name\": \"-46.7\", \"textfont\": {\"color\": \"#4D5663\"}, \"type\": \"scatter\", \"x\": [25.7], \"y\": [-46.7]}, {\"marker\": {\"color\": \"rgba(55, 128, 191, 0.7575757575757576)\", \"line\": {\"width\": 1.3}, \"opacity\": 0.8, \"size\": 12, \"symbol\": \"circle\"}, \"mode\": \"markers\", \"name\": \"-44.5\", \"textfont\": {\"color\": \"#4D5663\"}, \"type\": \"scatter\", \"x\": [25.1], \"y\": [-44.5]}, {\"marker\": {\"color\": \"rgba(50, 171, 96, 0.7575757575757576)\", \"line\": {\"width\": 1.3}, \"opacity\": 0.8, \"size\": 12, \"symbol\": \"circle\"}, \"mode\": \"markers\", \"name\": \"-42.28\", \"textfont\": {\"color\": \"#4D5663\"}, \"type\": \"scatter\", \"x\": [24.53], \"y\": [-42.28]}, {\"marker\": {\"color\": \"rgba(128, 0, 128, 0.7575757575757576)\", \"line\": {\"width\": 1.3}, \"opacity\": 0.8, \"size\": 12, \"symbol\": \"circle\"}, \"mode\": \"markers\", \"name\": \"-40.04\", \"textfont\": {\"color\": \"#4D5663\"}, \"type\": \"scatter\", \"x\": [23.99], \"y\": [-40.04]}, {\"marker\": {\"color\": \"rgba(219, 64, 82, 0.7575757575757576)\", \"line\": {\"width\": 1.3}, \"opacity\": 0.8, \"size\": 12, \"symbol\": \"circle\"}, \"mode\": \"markers\", \"name\": \"-37.78\", \"textfont\": {\"color\": \"#4D5663\"}, \"type\": \"scatter\", \"x\": [23.48], \"y\": [-37.78]}, {\"marker\": {\"color\": \"rgba(0, 128, 128, 0.7575757575757576)\", \"line\": {\"width\": 1.3}, \"opacity\": 0.8, \"size\": 12, \"symbol\": \"circle\"}, \"mode\": \"markers\", \"name\": \"-35.5\", \"textfont\": {\"color\": \"#4D5663\"}, \"type\": \"scatter\", \"x\": [22.99], \"y\": [-35.5]}, {\"marker\": {\"color\": \"rgba(255, 255, 51, 0.7575757575757576)\", \"line\": {\"width\": 1.3}, \"opacity\": 0.8, \"size\": 12, \"symbol\": \"circle\"}, \"mode\": \"markers\", \"name\": \"-33.2\", \"textfont\": {\"color\": \"#4D5663\"}, \"type\": \"scatter\", \"x\": [22.53], \"y\": [-33.2]}, {\"marker\": {\"color\": \"rgba(255, 255, 51, 0.6767676767676767)\", \"line\": {\"width\": 1.3}, \"opacity\": 0.8, \"size\": 12, \"symbol\": \"circle\"}, \"mode\": \"markers\", \"name\": \"-30.88\", \"textfont\": {\"color\": \"#4D5663\"}, \"type\": \"scatter\", \"x\": [22.09], \"y\": [-30.88]}, {\"marker\": {\"color\": \"rgba(128, 128, 0, 0.6767676767676767)\", \"line\": {\"width\": 1.3}, \"opacity\": 0.8, \"size\": 12, \"symbol\": \"circle\"}, \"mode\": \"markers\", \"name\": \"-28.55\", \"textfont\": {\"color\": \"#4D5663\"}, \"type\": \"scatter\", \"x\": [21.67], \"y\": [-28.55]}, {\"marker\": {\"color\": \"rgba(251, 128, 114, 0.6767676767676767)\", \"line\": {\"width\": 1.3}, \"opacity\": 0.8, \"size\": 12, \"symbol\": \"circle\"}, \"mode\": \"markers\", \"name\": \"-26.19\", \"textfont\": {\"color\": \"#4D5663\"}, \"type\": \"scatter\", \"x\": [21.27], \"y\": [-26.19]}, {\"marker\": {\"color\": \"rgba(128, 177, 211, 0.6767676767676767)\", \"line\": {\"width\": 1.3}, \"opacity\": 0.8, \"size\": 12, \"symbol\": \"circle\"}, \"mode\": \"markers\", \"name\": \"-23.83\", \"textfont\": {\"color\": \"#4D5663\"}, \"type\": \"scatter\", \"x\": [20.89], \"y\": [-23.83]}, {\"marker\": {\"color\": \"rgba(255, 153, 51, 0.6767676767676767)\", \"line\": {\"width\": 1.3}, \"opacity\": 0.8, \"size\": 12, \"symbol\": \"circle\"}, \"mode\": \"markers\", \"name\": \"-21.45\", \"textfont\": {\"color\": \"#4D5663\"}, \"type\": \"scatter\", \"x\": [20.54], \"y\": [-21.45]}, {\"marker\": {\"color\": \"rgba(55, 128, 191, 0.6767676767676767)\", \"line\": {\"width\": 1.3}, \"opacity\": 0.8, \"size\": 12, \"symbol\": \"circle\"}, \"mode\": \"markers\", \"name\": \"-19.05\", \"textfont\": {\"color\": \"#4D5663\"}, \"type\": \"scatter\", \"x\": [20.2], \"y\": [-19.05]}, {\"marker\": {\"color\": \"rgba(50, 171, 96, 0.6767676767676767)\", \"line\": {\"width\": 1.3}, \"opacity\": 0.8, \"size\": 12, \"symbol\": \"circle\"}, \"mode\": \"markers\", \"name\": \"-16.65\", \"textfont\": {\"color\": \"#4D5663\"}, \"type\": \"scatter\", \"x\": [19.87], \"y\": [-16.65]}, {\"marker\": {\"color\": \"rgba(128, 0, 128, 0.6767676767676767)\", \"line\": {\"width\": 1.3}, \"opacity\": 0.8, \"size\": 12, \"symbol\": \"circle\"}, \"mode\": \"markers\", \"name\": \"-14.23\", \"textfont\": {\"color\": \"#4D5663\"}, \"type\": \"scatter\", \"x\": [19.57], \"y\": [-14.23]}, {\"marker\": {\"color\": \"rgba(219, 64, 82, 0.6767676767676767)\", \"line\": {\"width\": 1.3}, \"opacity\": 0.8, \"size\": 12, \"symbol\": \"circle\"}, \"mode\": \"markers\", \"name\": \"-11.81\", \"textfont\": {\"color\": \"#4D5663\"}, \"type\": \"scatter\", \"x\": [19.28], \"y\": [-11.81]}, {\"marker\": {\"color\": \"rgba(0, 128, 128, 0.6767676767676767)\", \"line\": {\"width\": 1.3}, \"opacity\": 0.8, \"size\": 12, \"symbol\": \"circle\"}, \"mode\": \"markers\", \"name\": \"-9.37\", \"textfont\": {\"color\": \"#4D5663\"}, \"type\": \"scatter\", \"x\": [19.0], \"y\": [-9.37]}, {\"marker\": {\"color\": \"rgba(0, 128, 128, 0.5959595959595958)\", \"line\": {\"width\": 1.3}, \"opacity\": 0.8, \"size\": 12, \"symbol\": \"circle\"}, \"mode\": \"markers\", \"name\": \"-6.93\", \"textfont\": {\"color\": \"#4D5663\"}, \"type\": \"scatter\", \"x\": [18.74], \"y\": [-6.93]}, {\"marker\": {\"color\": \"rgba(255, 255, 51, 0.5959595959595958)\", \"line\": {\"width\": 1.3}, \"opacity\": 0.8, \"size\": 12, \"symbol\": \"circle\"}, \"mode\": \"markers\", \"name\": \"-4.49\", \"textfont\": {\"color\": \"#4D5663\"}, \"type\": \"scatter\", \"x\": [18.49], \"y\": [-4.49]}, {\"marker\": {\"color\": \"rgba(128, 128, 0, 0.5959595959595958)\", \"line\": {\"width\": 1.3}, \"opacity\": 0.8, \"size\": 12, \"symbol\": \"circle\"}, \"mode\": \"markers\", \"name\": \"-2.03\", \"textfont\": {\"color\": \"#4D5663\"}, \"type\": \"scatter\", \"x\": [18.24], \"y\": [-2.03]}, {\"marker\": {\"color\": \"rgba(251, 128, 114, 0.5959595959595958)\", \"line\": {\"width\": 1.3}, \"opacity\": 0.8, \"size\": 12, \"symbol\": \"circle\"}, \"mode\": \"markers\", \"name\": \"0.42\", \"textfont\": {\"color\": \"#4D5663\"}, \"type\": \"scatter\", \"x\": [18.01], \"y\": [0.42]}, {\"marker\": {\"color\": \"rgba(128, 177, 211, 0.5959595959595958)\", \"line\": {\"width\": 1.3}, \"opacity\": 0.8, \"size\": 12, \"symbol\": \"circle\"}, \"mode\": \"markers\", \"name\": \"2.88\", \"textfont\": {\"color\": \"#4D5663\"}, \"type\": \"scatter\", \"x\": [17.79], \"y\": [2.88]}, {\"marker\": {\"color\": \"rgba(255, 153, 51, 0.5959595959595958)\", \"line\": {\"width\": 1.3}, \"opacity\": 0.8, \"size\": 12, \"symbol\": \"circle\"}, \"mode\": \"markers\", \"name\": \"5.35\", \"textfont\": {\"color\": \"#4D5663\"}, \"type\": \"scatter\", \"x\": [17.58], \"y\": [5.35]}, {\"marker\": {\"color\": \"rgba(55, 128, 191, 0.5959595959595958)\", \"line\": {\"width\": 1.3}, \"opacity\": 0.8, \"size\": 12, \"symbol\": \"circle\"}, \"mode\": \"markers\", \"name\": \"7.81\", \"textfont\": {\"color\": \"#4D5663\"}, \"type\": \"scatter\", \"x\": [17.38], \"y\": [7.81]}, {\"marker\": {\"color\": \"rgba(50, 171, 96, 0.5959595959595958)\", \"line\": {\"width\": 1.3}, \"opacity\": 0.8, \"size\": 12, \"symbol\": \"circle\"}, \"mode\": \"markers\", \"name\": \"10.28\", \"textfont\": {\"color\": \"#4D5663\"}, \"type\": \"scatter\", \"x\": [17.18], \"y\": [10.28]}, {\"marker\": {\"color\": \"rgba(128, 0, 128, 0.5959595959595958)\", \"line\": {\"width\": 1.3}, \"opacity\": 0.8, \"size\": 12, \"symbol\": \"circle\"}, \"mode\": \"markers\", \"name\": \"12.74\", \"textfont\": {\"color\": \"#4D5663\"}, \"type\": \"scatter\", \"x\": [16.98], \"y\": [12.74]}, {\"marker\": {\"color\": \"rgba(219, 64, 82, 0.5959595959595958)\", \"line\": {\"width\": 1.3}, \"opacity\": 0.8, \"size\": 12, \"symbol\": \"circle\"}, \"mode\": \"markers\", \"name\": \"15.2\", \"textfont\": {\"color\": \"#4D5663\"}, \"type\": \"scatter\", \"x\": [16.79], \"y\": [15.2]}, {\"marker\": {\"color\": \"rgba(219, 64, 82, 0.5151515151515149)\", \"line\": {\"width\": 1.3}, \"opacity\": 0.8, \"size\": 12, \"symbol\": \"circle\"}, \"mode\": \"markers\", \"name\": \"17.66\", \"textfont\": {\"color\": \"#4D5663\"}, \"type\": \"scatter\", \"x\": [16.6], \"y\": [17.66]}, {\"marker\": {\"color\": \"rgba(0, 128, 128, 0.5151515151515149)\", \"line\": {\"width\": 1.3}, \"opacity\": 0.8, \"size\": 12, \"symbol\": \"circle\"}, \"mode\": \"markers\", \"name\": \"20.11\", \"textfont\": {\"color\": \"#4D5663\"}, \"type\": \"scatter\", \"x\": [16.42], \"y\": [20.11]}, {\"marker\": {\"color\": \"rgba(255, 255, 51, 0.5151515151515149)\", \"line\": {\"width\": 1.3}, \"opacity\": 0.8, \"size\": 12, \"symbol\": \"circle\"}, \"mode\": \"markers\", \"name\": \"22.56\", \"textfont\": {\"color\": \"#4D5663\"}, \"type\": \"scatter\", \"x\": [16.24], \"y\": [22.56]}, {\"marker\": {\"color\": \"rgba(128, 128, 0, 0.5151515151515149)\", \"line\": {\"width\": 1.3}, \"opacity\": 0.8, \"size\": 12, \"symbol\": \"circle\"}, \"mode\": \"markers\", \"name\": \"25.0\", \"textfont\": {\"color\": \"#4D5663\"}, \"type\": \"scatter\", \"x\": [16.05], \"y\": [25.0]}, {\"marker\": {\"color\": \"rgba(251, 128, 114, 0.5151515151515149)\", \"line\": {\"width\": 1.3}, \"opacity\": 0.8, \"size\": 12, \"symbol\": \"circle\"}, \"mode\": \"markers\", \"name\": \"27.44\", \"textfont\": {\"color\": \"#4D5663\"}, \"type\": \"scatter\", \"x\": [15.87], \"y\": [27.44]}, {\"marker\": {\"color\": \"rgba(128, 177, 211, 0.5151515151515149)\", \"line\": {\"width\": 1.3}, \"opacity\": 0.8, \"size\": 12, \"symbol\": \"circle\"}, \"mode\": \"markers\", \"name\": \"29.87\", \"textfont\": {\"color\": \"#4D5663\"}, \"type\": \"scatter\", \"x\": [15.68], \"y\": [29.87]}, {\"marker\": {\"color\": \"rgba(255, 153, 51, 0.5151515151515149)\", \"line\": {\"width\": 1.3}, \"opacity\": 0.8, \"size\": 12, \"symbol\": \"circle\"}, \"mode\": \"markers\", \"name\": \"32.29\", \"textfont\": {\"color\": \"#4D5663\"}, \"type\": \"scatter\", \"x\": [15.49], \"y\": [32.29]}, {\"marker\": {\"color\": \"rgba(55, 128, 191, 0.5151515151515149)\", \"line\": {\"width\": 1.3}, \"opacity\": 0.8, \"size\": 12, \"symbol\": \"circle\"}, \"mode\": \"markers\", \"name\": \"34.69\", \"textfont\": {\"color\": \"#4D5663\"}, \"type\": \"scatter\", \"x\": [15.3], \"y\": [34.69]}, {\"marker\": {\"color\": \"rgba(50, 171, 96, 0.5151515151515149)\", \"line\": {\"width\": 1.3}, \"opacity\": 0.8, \"size\": 12, \"symbol\": \"circle\"}, \"mode\": \"markers\", \"name\": \"37.09\", \"textfont\": {\"color\": \"#4D5663\"}, \"type\": \"scatter\", \"x\": [15.1], \"y\": [37.09]}, {\"marker\": {\"color\": \"rgba(128, 0, 128, 0.5151515151515149)\", \"line\": {\"width\": 1.3}, \"opacity\": 0.8, \"size\": 12, \"symbol\": \"circle\"}, \"mode\": \"markers\", \"name\": \"39.48\", \"textfont\": {\"color\": \"#4D5663\"}, \"type\": \"scatter\", \"x\": [14.9], \"y\": [39.48]}, {\"marker\": {\"color\": \"rgba(128, 0, 128, 0.4343434343434343)\", \"line\": {\"width\": 1.3}, \"opacity\": 0.8, \"size\": 12, \"symbol\": \"circle\"}, \"mode\": \"markers\", \"name\": \"41.85\", \"textfont\": {\"color\": \"#4D5663\"}, \"type\": \"scatter\", \"x\": [14.68], \"y\": [41.85]}, {\"marker\": {\"color\": \"rgba(219, 64, 82, 0.4343434343434343)\", \"line\": {\"width\": 1.3}, \"opacity\": 0.8, \"size\": 12, \"symbol\": \"circle\"}, \"mode\": \"markers\", \"name\": \"44.2\", \"textfont\": {\"color\": \"#4D5663\"}, \"type\": \"scatter\", \"x\": [14.47], \"y\": [44.2]}, {\"marker\": {\"color\": \"rgba(0, 128, 128, 0.4343434343434343)\", \"line\": {\"width\": 1.3}, \"opacity\": 0.8, \"size\": 12, \"symbol\": \"circle\"}, \"mode\": \"markers\", \"name\": \"46.54\", \"textfont\": {\"color\": \"#4D5663\"}, \"type\": \"scatter\", \"x\": [14.24], \"y\": [46.54]}, {\"marker\": {\"color\": \"rgba(255, 255, 51, 0.4343434343434343)\", \"line\": {\"width\": 1.3}, \"opacity\": 0.8, \"size\": 12, \"symbol\": \"circle\"}, \"mode\": \"markers\", \"name\": \"48.87\", \"textfont\": {\"color\": \"#4D5663\"}, \"type\": \"scatter\", \"x\": [14.0], \"y\": [48.87]}, {\"marker\": {\"color\": \"rgba(128, 128, 0, 0.4343434343434343)\", \"line\": {\"width\": 1.3}, \"opacity\": 0.8, \"size\": 12, \"symbol\": \"circle\"}, \"mode\": \"markers\", \"name\": \"51.17\", \"textfont\": {\"color\": \"#4D5663\"}, \"type\": \"scatter\", \"x\": [13.75], \"y\": [51.17]}, {\"marker\": {\"color\": \"rgba(251, 128, 114, 0.4343434343434343)\", \"line\": {\"width\": 1.3}, \"opacity\": 0.8, \"size\": 12, \"symbol\": \"circle\"}, \"mode\": \"markers\", \"name\": \"53.46\", \"textfont\": {\"color\": \"#4D5663\"}, \"type\": \"scatter\", \"x\": [13.49], \"y\": [53.46]}, {\"marker\": {\"color\": \"rgba(128, 177, 211, 0.4343434343434343)\", \"line\": {\"width\": 1.3}, \"opacity\": 0.8, \"size\": 12, \"symbol\": \"circle\"}, \"mode\": \"markers\", \"name\": \"55.73\", \"textfont\": {\"color\": \"#4D5663\"}, \"type\": \"scatter\", \"x\": [13.21], \"y\": [55.73]}, {\"marker\": {\"color\": \"rgba(255, 153, 51, 0.4343434343434343)\", \"line\": {\"width\": 1.3}, \"opacity\": 0.8, \"size\": 12, \"symbol\": \"circle\"}, \"mode\": \"markers\", \"name\": \"57.97\", \"textfont\": {\"color\": \"#4D5663\"}, \"type\": \"scatter\", \"x\": [12.93], \"y\": [57.97]}, {\"marker\": {\"color\": \"rgba(55, 128, 191, 0.4343434343434343)\", \"line\": {\"width\": 1.3}, \"opacity\": 0.8, \"size\": 12, \"symbol\": \"circle\"}, \"mode\": \"markers\", \"name\": \"60.2\", \"textfont\": {\"color\": \"#4D5663\"}, \"type\": \"scatter\", \"x\": [12.62], \"y\": [60.2]}, {\"marker\": {\"color\": \"rgba(50, 171, 96, 0.4343434343434343)\", \"line\": {\"width\": 1.3}, \"opacity\": 0.8, \"size\": 12, \"symbol\": \"circle\"}, \"mode\": \"markers\", \"name\": \"62.4\", \"textfont\": {\"color\": \"#4D5663\"}, \"type\": \"scatter\", \"x\": [12.3], \"y\": [62.4]}, {\"marker\": {\"color\": \"rgba(50, 171, 96, 0.3535353535353534)\", \"line\": {\"width\": 1.3}, \"opacity\": 0.8, \"size\": 12, \"symbol\": \"circle\"}, \"mode\": \"markers\", \"name\": \"64.58\", \"textfont\": {\"color\": \"#4D5663\"}, \"type\": \"scatter\", \"x\": [11.97], \"y\": [64.58]}, {\"marker\": {\"color\": \"rgba(128, 0, 128, 0.3535353535353534)\", \"line\": {\"width\": 1.3}, \"opacity\": 0.8, \"size\": 12, \"symbol\": \"circle\"}, \"mode\": \"markers\", \"name\": \"66.73\", \"textfont\": {\"color\": \"#4D5663\"}, \"type\": \"scatter\", \"x\": [11.61], \"y\": [66.73]}, {\"marker\": {\"color\": \"rgba(219, 64, 82, 0.3535353535353534)\", \"line\": {\"width\": 1.3}, \"opacity\": 0.8, \"size\": 12, \"symbol\": \"circle\"}, \"mode\": \"markers\", \"name\": \"68.86\", \"textfont\": {\"color\": \"#4D5663\"}, \"type\": \"scatter\", \"x\": [11.24], \"y\": [68.86]}, {\"marker\": {\"color\": \"rgba(0, 128, 128, 0.3535353535353534)\", \"line\": {\"width\": 1.3}, \"opacity\": 0.8, \"size\": 12, \"symbol\": \"circle\"}, \"mode\": \"markers\", \"name\": \"70.96\", \"textfont\": {\"color\": \"#4D5663\"}, \"type\": \"scatter\", \"x\": [10.85], \"y\": [70.96]}, {\"marker\": {\"color\": \"rgba(255, 255, 51, 0.3535353535353534)\", \"line\": {\"width\": 1.3}, \"opacity\": 0.8, \"size\": 12, \"symbol\": \"circle\"}, \"mode\": \"markers\", \"name\": \"73.03\", \"textfont\": {\"color\": \"#4D5663\"}, \"type\": \"scatter\", \"x\": [10.43], \"y\": [73.03]}, {\"marker\": {\"color\": \"rgba(128, 128, 0, 0.3535353535353534)\", \"line\": {\"width\": 1.3}, \"opacity\": 0.8, \"size\": 12, \"symbol\": \"circle\"}, \"mode\": \"markers\", \"name\": \"75.07\", \"textfont\": {\"color\": \"#4D5663\"}, \"type\": \"scatter\", \"x\": [10.0], \"y\": [75.07]}, {\"marker\": {\"color\": \"rgba(251, 128, 114, 0.3535353535353534)\", \"line\": {\"width\": 1.3}, \"opacity\": 0.8, \"size\": 12, \"symbol\": \"circle\"}, \"mode\": \"markers\", \"name\": \"77.08\", \"textfont\": {\"color\": \"#4D5663\"}, \"type\": \"scatter\", \"x\": [9.54], \"y\": [77.08]}, {\"marker\": {\"color\": \"rgba(128, 177, 211, 0.3535353535353534)\", \"line\": {\"width\": 1.3}, \"opacity\": 0.8, \"size\": 12, \"symbol\": \"circle\"}, \"mode\": \"markers\", \"name\": \"79.06\", \"textfont\": {\"color\": \"#4D5663\"}, \"type\": \"scatter\", \"x\": [9.05], \"y\": [79.06]}, {\"marker\": {\"color\": \"rgba(255, 153, 51, 0.3535353535353534)\", \"line\": {\"width\": 1.3}, \"opacity\": 0.8, \"size\": 12, \"symbol\": \"circle\"}, \"mode\": \"markers\", \"name\": \"81.01\", \"textfont\": {\"color\": \"#4D5663\"}, \"type\": \"scatter\", \"x\": [8.54], \"y\": [81.01]}, {\"marker\": {\"color\": \"rgba(55, 128, 191, 0.3535353535353534)\", \"line\": {\"width\": 1.3}, \"opacity\": 0.8, \"size\": 12, \"symbol\": \"circle\"}, \"mode\": \"markers\", \"name\": \"82.93\", \"textfont\": {\"color\": \"#4D5663\"}, \"type\": \"scatter\", \"x\": [8.01], \"y\": [82.93]}, {\"marker\": {\"color\": \"rgba(55, 128, 191, 0.27272727272727254)\", \"line\": {\"width\": 1.3}, \"opacity\": 0.8, \"size\": 12, \"symbol\": \"circle\"}, \"mode\": \"markers\", \"name\": \"84.81\", \"textfont\": {\"color\": \"#4D5663\"}, \"type\": \"scatter\", \"x\": [7.45], \"y\": [84.81]}, {\"marker\": {\"color\": \"rgba(50, 171, 96, 0.27272727272727254)\", \"line\": {\"width\": 1.3}, \"opacity\": 0.8, \"size\": 12, \"symbol\": \"circle\"}, \"mode\": \"markers\", \"name\": \"86.65\", \"textfont\": {\"color\": \"#4D5663\"}, \"type\": \"scatter\", \"x\": [6.86], \"y\": [86.65]}, {\"marker\": {\"color\": \"rgba(128, 0, 128, 0.27272727272727254)\", \"line\": {\"width\": 1.3}, \"opacity\": 0.8, \"size\": 12, \"symbol\": \"circle\"}, \"mode\": \"markers\", \"name\": \"88.46\", \"textfont\": {\"color\": \"#4D5663\"}, \"type\": \"scatter\", \"x\": [6.24], \"y\": [88.46]}, {\"marker\": {\"color\": \"rgba(219, 64, 82, 0.27272727272727254)\", \"line\": {\"width\": 1.3}, \"opacity\": 0.8, \"size\": 12, \"symbol\": \"circle\"}, \"mode\": \"markers\", \"name\": \"90.23\", \"textfont\": {\"color\": \"#4D5663\"}, \"type\": \"scatter\", \"x\": [5.59], \"y\": [90.23]}, {\"marker\": {\"color\": \"rgba(0, 128, 128, 0.27272727272727254)\", \"line\": {\"width\": 1.3}, \"opacity\": 0.8, \"size\": 12, \"symbol\": \"circle\"}, \"mode\": \"markers\", \"name\": \"91.96\", \"textfont\": {\"color\": \"#4D5663\"}, \"type\": \"scatter\", \"x\": [4.91], \"y\": [91.96]}, {\"marker\": {\"color\": \"rgba(255, 255, 51, 0.27272727272727254)\", \"line\": {\"width\": 1.3}, \"opacity\": 0.8, \"size\": 12, \"symbol\": \"circle\"}, \"mode\": \"markers\", \"name\": \"93.65\", \"textfont\": {\"color\": \"#4D5663\"}, \"type\": \"scatter\", \"x\": [4.19], \"y\": [93.65]}, {\"marker\": {\"color\": \"rgba(128, 128, 0, 0.27272727272727254)\", \"line\": {\"width\": 1.3}, \"opacity\": 0.8, \"size\": 12, \"symbol\": \"circle\"}, \"mode\": \"markers\", \"name\": \"95.3\", \"textfont\": {\"color\": \"#4D5663\"}, \"type\": \"scatter\", \"x\": [3.45], \"y\": [95.3]}, {\"marker\": {\"color\": \"rgba(251, 128, 114, 0.27272727272727254)\", \"line\": {\"width\": 1.3}, \"opacity\": 0.8, \"size\": 12, \"symbol\": \"circle\"}, \"mode\": \"markers\", \"name\": \"96.91\", \"textfont\": {\"color\": \"#4D5663\"}, \"type\": \"scatter\", \"x\": [2.67], \"y\": [96.91]}, {\"marker\": {\"color\": \"rgba(128, 177, 211, 0.27272727272727254)\", \"line\": {\"width\": 1.3}, \"opacity\": 0.8, \"size\": 12, \"symbol\": \"circle\"}, \"mode\": \"markers\", \"name\": \"98.48\", \"textfont\": {\"color\": \"#4D5663\"}, \"type\": \"scatter\", \"x\": [1.85], \"y\": [98.48]}],                        {\"legend\": {\"bgcolor\": \"#F5F6F9\", \"font\": {\"color\": \"#4D5663\"}}, \"paper_bgcolor\": \"#F5F6F9\", \"plot_bgcolor\": \"#F5F6F9\", \"template\": {\"data\": {\"bar\": [{\"error_x\": {\"color\": \"#2a3f5f\"}, \"error_y\": {\"color\": \"#2a3f5f\"}, \"marker\": {\"line\": {\"color\": \"#E5ECF6\", \"width\": 0.5}}, \"type\": \"bar\"}], \"barpolar\": [{\"marker\": {\"line\": {\"color\": \"#E5ECF6\", \"width\": 0.5}}, \"type\": \"barpolar\"}], \"carpet\": [{\"aaxis\": {\"endlinecolor\": \"#2a3f5f\", \"gridcolor\": \"white\", \"linecolor\": \"white\", \"minorgridcolor\": \"white\", \"startlinecolor\": \"#2a3f5f\"}, \"baxis\": {\"endlinecolor\": \"#2a3f5f\", \"gridcolor\": \"white\", \"linecolor\": \"white\", \"minorgridcolor\": \"white\", \"startlinecolor\": \"#2a3f5f\"}, \"type\": \"carpet\"}], \"choropleth\": [{\"colorbar\": {\"outlinewidth\": 0, \"ticks\": \"\"}, \"type\": \"choropleth\"}], \"contour\": [{\"colorbar\": {\"outlinewidth\": 0, \"ticks\": \"\"}, \"colorscale\": [[0.0, \"#0d0887\"], [0.1111111111111111, \"#46039f\"], [0.2222222222222222, \"#7201a8\"], [0.3333333333333333, \"#9c179e\"], [0.4444444444444444, \"#bd3786\"], [0.5555555555555556, \"#d8576b\"], [0.6666666666666666, \"#ed7953\"], [0.7777777777777778, \"#fb9f3a\"], [0.8888888888888888, \"#fdca26\"], [1.0, \"#f0f921\"]], \"type\": \"contour\"}], \"contourcarpet\": [{\"colorbar\": {\"outlinewidth\": 0, \"ticks\": \"\"}, \"type\": \"contourcarpet\"}], \"heatmap\": [{\"colorbar\": {\"outlinewidth\": 0, \"ticks\": \"\"}, \"colorscale\": [[0.0, \"#0d0887\"], [0.1111111111111111, \"#46039f\"], [0.2222222222222222, \"#7201a8\"], [0.3333333333333333, \"#9c179e\"], [0.4444444444444444, \"#bd3786\"], [0.5555555555555556, \"#d8576b\"], [0.6666666666666666, \"#ed7953\"], [0.7777777777777778, \"#fb9f3a\"], [0.8888888888888888, \"#fdca26\"], [1.0, \"#f0f921\"]], \"type\": \"heatmap\"}], \"heatmapgl\": [{\"colorbar\": {\"outlinewidth\": 0, \"ticks\": \"\"}, \"colorscale\": [[0.0, \"#0d0887\"], [0.1111111111111111, \"#46039f\"], [0.2222222222222222, \"#7201a8\"], [0.3333333333333333, \"#9c179e\"], [0.4444444444444444, \"#bd3786\"], [0.5555555555555556, \"#d8576b\"], [0.6666666666666666, \"#ed7953\"], [0.7777777777777778, \"#fb9f3a\"], [0.8888888888888888, \"#fdca26\"], [1.0, \"#f0f921\"]], \"type\": \"heatmapgl\"}], \"histogram\": [{\"marker\": {\"colorbar\": {\"outlinewidth\": 0, \"ticks\": \"\"}}, \"type\": \"histogram\"}], \"histogram2d\": [{\"colorbar\": {\"outlinewidth\": 0, \"ticks\": \"\"}, \"colorscale\": [[0.0, \"#0d0887\"], [0.1111111111111111, \"#46039f\"], [0.2222222222222222, \"#7201a8\"], [0.3333333333333333, \"#9c179e\"], [0.4444444444444444, \"#bd3786\"], [0.5555555555555556, \"#d8576b\"], [0.6666666666666666, \"#ed7953\"], [0.7777777777777778, \"#fb9f3a\"], [0.8888888888888888, \"#fdca26\"], [1.0, \"#f0f921\"]], \"type\": \"histogram2d\"}], \"histogram2dcontour\": [{\"colorbar\": {\"outlinewidth\": 0, \"ticks\": \"\"}, \"colorscale\": [[0.0, \"#0d0887\"], [0.1111111111111111, \"#46039f\"], [0.2222222222222222, \"#7201a8\"], [0.3333333333333333, \"#9c179e\"], [0.4444444444444444, \"#bd3786\"], [0.5555555555555556, \"#d8576b\"], [0.6666666666666666, \"#ed7953\"], [0.7777777777777778, \"#fb9f3a\"], [0.8888888888888888, \"#fdca26\"], [1.0, \"#f0f921\"]], \"type\": \"histogram2dcontour\"}], \"mesh3d\": [{\"colorbar\": {\"outlinewidth\": 0, \"ticks\": \"\"}, \"type\": \"mesh3d\"}], \"parcoords\": [{\"line\": {\"colorbar\": {\"outlinewidth\": 0, \"ticks\": \"\"}}, \"type\": \"parcoords\"}], \"pie\": [{\"automargin\": true, \"type\": \"pie\"}], \"scatter\": [{\"marker\": {\"colorbar\": {\"outlinewidth\": 0, \"ticks\": \"\"}}, \"type\": \"scatter\"}], \"scatter3d\": [{\"line\": {\"colorbar\": {\"outlinewidth\": 0, \"ticks\": \"\"}}, \"marker\": {\"colorbar\": {\"outlinewidth\": 0, \"ticks\": \"\"}}, \"type\": \"scatter3d\"}], \"scattercarpet\": [{\"marker\": {\"colorbar\": {\"outlinewidth\": 0, \"ticks\": \"\"}}, \"type\": \"scattercarpet\"}], \"scattergeo\": [{\"marker\": {\"colorbar\": {\"outlinewidth\": 0, \"ticks\": \"\"}}, \"type\": \"scattergeo\"}], \"scattergl\": [{\"marker\": {\"colorbar\": {\"outlinewidth\": 0, \"ticks\": \"\"}}, \"type\": \"scattergl\"}], \"scattermapbox\": [{\"marker\": {\"colorbar\": {\"outlinewidth\": 0, \"ticks\": \"\"}}, \"type\": \"scattermapbox\"}], \"scatterpolar\": [{\"marker\": {\"colorbar\": {\"outlinewidth\": 0, \"ticks\": \"\"}}, \"type\": \"scatterpolar\"}], \"scatterpolargl\": [{\"marker\": {\"colorbar\": {\"outlinewidth\": 0, \"ticks\": \"\"}}, \"type\": \"scatterpolargl\"}], \"scatterternary\": [{\"marker\": {\"colorbar\": {\"outlinewidth\": 0, \"ticks\": \"\"}}, \"type\": \"scatterternary\"}], \"surface\": [{\"colorbar\": {\"outlinewidth\": 0, \"ticks\": \"\"}, \"colorscale\": [[0.0, \"#0d0887\"], [0.1111111111111111, \"#46039f\"], [0.2222222222222222, \"#7201a8\"], [0.3333333333333333, \"#9c179e\"], [0.4444444444444444, \"#bd3786\"], [0.5555555555555556, \"#d8576b\"], [0.6666666666666666, \"#ed7953\"], [0.7777777777777778, \"#fb9f3a\"], [0.8888888888888888, \"#fdca26\"], [1.0, \"#f0f921\"]], \"type\": \"surface\"}], \"table\": [{\"cells\": {\"fill\": {\"color\": \"#EBF0F8\"}, \"line\": {\"color\": \"white\"}}, \"header\": {\"fill\": {\"color\": \"#C8D4E3\"}, \"line\": {\"color\": \"white\"}}, \"type\": \"table\"}]}, \"layout\": {\"annotationdefaults\": {\"arrowcolor\": \"#2a3f5f\", \"arrowhead\": 0, \"arrowwidth\": 1}, \"autotypenumbers\": \"strict\", \"coloraxis\": {\"colorbar\": {\"outlinewidth\": 0, \"ticks\": \"\"}}, \"colorscale\": {\"diverging\": [[0, \"#8e0152\"], [0.1, \"#c51b7d\"], [0.2, \"#de77ae\"], [0.3, \"#f1b6da\"], [0.4, \"#fde0ef\"], [0.5, \"#f7f7f7\"], [0.6, \"#e6f5d0\"], [0.7, \"#b8e186\"], [0.8, \"#7fbc41\"], [0.9, \"#4d9221\"], [1, \"#276419\"]], \"sequential\": [[0.0, \"#0d0887\"], [0.1111111111111111, \"#46039f\"], [0.2222222222222222, \"#7201a8\"], [0.3333333333333333, \"#9c179e\"], [0.4444444444444444, \"#bd3786\"], [0.5555555555555556, \"#d8576b\"], [0.6666666666666666, \"#ed7953\"], [0.7777777777777778, \"#fb9f3a\"], [0.8888888888888888, \"#fdca26\"], [1.0, \"#f0f921\"]], \"sequentialminus\": [[0.0, \"#0d0887\"], [0.1111111111111111, \"#46039f\"], [0.2222222222222222, \"#7201a8\"], [0.3333333333333333, \"#9c179e\"], [0.4444444444444444, \"#bd3786\"], [0.5555555555555556, \"#d8576b\"], [0.6666666666666666, \"#ed7953\"], [0.7777777777777778, \"#fb9f3a\"], [0.8888888888888888, \"#fdca26\"], [1.0, \"#f0f921\"]]}, \"colorway\": [\"#636efa\", \"#EF553B\", \"#00cc96\", \"#ab63fa\", \"#FFA15A\", \"#19d3f3\", \"#FF6692\", \"#B6E880\", \"#FF97FF\", \"#FECB52\"], \"font\": {\"color\": \"#2a3f5f\"}, \"geo\": {\"bgcolor\": \"white\", \"lakecolor\": \"white\", \"landcolor\": \"#E5ECF6\", \"showlakes\": true, \"showland\": true, \"subunitcolor\": \"white\"}, \"hoverlabel\": {\"align\": \"left\"}, \"hovermode\": \"closest\", \"mapbox\": {\"style\": \"light\"}, \"paper_bgcolor\": \"white\", \"plot_bgcolor\": \"#E5ECF6\", \"polar\": {\"angularaxis\": {\"gridcolor\": \"white\", \"linecolor\": \"white\", \"ticks\": \"\"}, \"bgcolor\": \"#E5ECF6\", \"radialaxis\": {\"gridcolor\": \"white\", \"linecolor\": \"white\", \"ticks\": \"\"}}, \"scene\": {\"xaxis\": {\"backgroundcolor\": \"#E5ECF6\", \"gridcolor\": \"white\", \"gridwidth\": 2, \"linecolor\": \"white\", \"showbackground\": true, \"ticks\": \"\", \"zerolinecolor\": \"white\"}, \"yaxis\": {\"backgroundcolor\": \"#E5ECF6\", \"gridcolor\": \"white\", \"gridwidth\": 2, \"linecolor\": \"white\", \"showbackground\": true, \"ticks\": \"\", \"zerolinecolor\": \"white\"}, \"zaxis\": {\"backgroundcolor\": \"#E5ECF6\", \"gridcolor\": \"white\", \"gridwidth\": 2, \"linecolor\": \"white\", \"showbackground\": true, \"ticks\": \"\", \"zerolinecolor\": \"white\"}}, \"shapedefaults\": {\"line\": {\"color\": \"#2a3f5f\"}}, \"ternary\": {\"aaxis\": {\"gridcolor\": \"white\", \"linecolor\": \"white\", \"ticks\": \"\"}, \"baxis\": {\"gridcolor\": \"white\", \"linecolor\": \"white\", \"ticks\": \"\"}, \"bgcolor\": \"#E5ECF6\", \"caxis\": {\"gridcolor\": \"white\", \"linecolor\": \"white\", \"ticks\": \"\"}}, \"title\": {\"x\": 0.05}, \"xaxis\": {\"automargin\": true, \"gridcolor\": \"white\", \"linecolor\": \"white\", \"ticks\": \"\", \"title\": {\"standoff\": 15}, \"zerolinecolor\": \"white\", \"zerolinewidth\": 2}, \"yaxis\": {\"automargin\": true, \"gridcolor\": \"white\", \"linecolor\": \"white\", \"ticks\": \"\", \"title\": {\"standoff\": 15}, \"zerolinecolor\": \"white\", \"zerolinewidth\": 2}}}, \"title\": {\"font\": {\"color\": \"#4D5663\"}, \"text\": \"Earth Reserve Index Policy Curve Data Points\"}, \"xaxis\": {\"gridcolor\": \"#E1E5ED\", \"showgrid\": true, \"tickfont\": {\"color\": \"#4D5663\"}, \"title\": {\"font\": {\"color\": \"#4D5663\"}, \"text\": \"Percentage Each Indicator Has Changed from Base Year Level to Worst/Best Case Scenario\"}, \"zerolinecolor\": \"#E1E5ED\"}, \"yaxis\": {\"gridcolor\": \"#E1E5ED\", \"showgrid\": true, \"tickfont\": {\"color\": \"#4D5663\"}, \"title\": {\"font\": {\"color\": \"#4D5663\"}, \"text\": \"Resource & Ecosystem Degradation Index\"}, \"zerolinecolor\": \"#E1E5ED\"}},                        {\"showLink\": true, \"linkText\": \"Export to plot.ly\", \"plotlyServerURL\": \"https://plot.ly\", \"responsive\": true}                    ).then(function(){\n",
       "                            \n",
       "var gd = document.getElementById('7076a7bc-ed0a-4191-b53d-c2b7a4bd65a5');\n",
       "var x = new MutationObserver(function (mutations, observer) {{\n",
       "        var display = window.getComputedStyle(gd).display;\n",
       "        if (!display || display === 'none') {{\n",
       "            console.log([gd, 'removed!']);\n",
       "            Plotly.purge(gd);\n",
       "            observer.disconnect();\n",
       "        }}\n",
       "}});\n",
       "\n",
       "// Listen for the removal of the full notebook cells\n",
       "var notebookContainer = gd.closest('#notebook-container');\n",
       "if (notebookContainer) {{\n",
       "    x.observe(notebookContainer, {childList: true});\n",
       "}}\n",
       "\n",
       "// Listen for the clearing of the current output cell\n",
       "var outputEl = gd.closest('.output');\n",
       "if (outputEl) {{\n",
       "    x.observe(outputEl, {childList: true});\n",
       "}}\n",
       "\n",
       "                        })                };                });            </script>        </div>"
      ]
     },
     "metadata": {},
     "output_type": "display_data"
    }
   ],
   "source": [
    "df.iplot(\n",
    "x='c',\n",
    "y='b',\n",
    "categories='b',\n",
    "xTitle='Percentage Each Indicator Has Changed from Base Year Level to Worst/Best Case Scenario',\n",
    "yTitle='Resource & Ecosystem Degradation Index',\n",
    "title= 'Earth Reserve Index Policy Curve Data Points')"
   ]
  },
  {
   "cell_type": "markdown",
   "id": "fifty-loading",
   "metadata": {},
   "source": [
    "# And this is the code that is supposed to produce a graph that is continuous, but for some reason it's showing an error. This is the right code though!! I swear it was working yesterday."
   ]
  },
  {
   "cell_type": "code",
   "execution_count": 2,
   "id": "impossible-jerusalem",
   "metadata": {},
   "outputs": [
    {
     "ename": "OSError",
     "evalue": "Address 'http://127.0.0.1:8050' already in use.\n    Try passing a different port to run_server.",
     "output_type": "error",
     "traceback": [
      "\u001b[0;31m---------------------------------------------------------------------------\u001b[0m",
      "\u001b[0;31mOSError\u001b[0m                                   Traceback (most recent call last)",
      "\u001b[0;32m<ipython-input-2-f2887876844f>\u001b[0m in \u001b[0;36m<module>\u001b[0;34m\u001b[0m\n\u001b[1;32m     37\u001b[0m \u001b[0;34m\u001b[0m\u001b[0m\n\u001b[1;32m     38\u001b[0m \u001b[0;32mif\u001b[0m \u001b[0m__name__\u001b[0m \u001b[0;34m==\u001b[0m \u001b[0;34m'__main__'\u001b[0m\u001b[0;34m:\u001b[0m\u001b[0;34m\u001b[0m\u001b[0;34m\u001b[0m\u001b[0m\n\u001b[0;32m---> 39\u001b[0;31m     \u001b[0mapp\u001b[0m\u001b[0;34m.\u001b[0m\u001b[0mrun_server\u001b[0m\u001b[0;34m(\u001b[0m\u001b[0mmode\u001b[0m\u001b[0;34m=\u001b[0m\u001b[0;34m\"inline\"\u001b[0m\u001b[0;34m)\u001b[0m\u001b[0;34m\u001b[0m\u001b[0;34m\u001b[0m\u001b[0m\n\u001b[0m",
      "\u001b[0;32m~/tutorial-env/lib/python3.9/site-packages/jupyter_dash/jupyter_app.py\u001b[0m in \u001b[0;36mrun_server\u001b[0;34m(self, mode, width, height, inline_exceptions, **kwargs)\u001b[0m\n\u001b[1;32m    317\u001b[0m                 )\n\u001b[1;32m    318\u001b[0m \u001b[0;34m\u001b[0m\u001b[0m\n\u001b[0;32m--> 319\u001b[0;31m         \u001b[0mwait_for_app\u001b[0m\u001b[0;34m(\u001b[0m\u001b[0;34m)\u001b[0m\u001b[0;34m\u001b[0m\u001b[0;34m\u001b[0m\u001b[0m\n\u001b[0m\u001b[1;32m    320\u001b[0m \u001b[0;34m\u001b[0m\u001b[0m\n\u001b[1;32m    321\u001b[0m         \u001b[0;32mif\u001b[0m \u001b[0mJupyterDash\u001b[0m\u001b[0;34m.\u001b[0m\u001b[0m_in_colab\u001b[0m\u001b[0;34m:\u001b[0m\u001b[0;34m\u001b[0m\u001b[0;34m\u001b[0m\u001b[0m\n",
      "\u001b[0;32m~/tutorial-env/lib/python3.9/site-packages/retrying.py\u001b[0m in \u001b[0;36mwrapped_f\u001b[0;34m(*args, **kw)\u001b[0m\n\u001b[1;32m     47\u001b[0m             \u001b[0;34m@\u001b[0m\u001b[0msix\u001b[0m\u001b[0;34m.\u001b[0m\u001b[0mwraps\u001b[0m\u001b[0;34m(\u001b[0m\u001b[0mf\u001b[0m\u001b[0;34m)\u001b[0m\u001b[0;34m\u001b[0m\u001b[0;34m\u001b[0m\u001b[0m\n\u001b[1;32m     48\u001b[0m             \u001b[0;32mdef\u001b[0m \u001b[0mwrapped_f\u001b[0m\u001b[0;34m(\u001b[0m\u001b[0;34m*\u001b[0m\u001b[0margs\u001b[0m\u001b[0;34m,\u001b[0m \u001b[0;34m**\u001b[0m\u001b[0mkw\u001b[0m\u001b[0;34m)\u001b[0m\u001b[0;34m:\u001b[0m\u001b[0;34m\u001b[0m\u001b[0;34m\u001b[0m\u001b[0m\n\u001b[0;32m---> 49\u001b[0;31m                 \u001b[0;32mreturn\u001b[0m \u001b[0mRetrying\u001b[0m\u001b[0;34m(\u001b[0m\u001b[0;34m*\u001b[0m\u001b[0mdargs\u001b[0m\u001b[0;34m,\u001b[0m \u001b[0;34m**\u001b[0m\u001b[0mdkw\u001b[0m\u001b[0;34m)\u001b[0m\u001b[0;34m.\u001b[0m\u001b[0mcall\u001b[0m\u001b[0;34m(\u001b[0m\u001b[0mf\u001b[0m\u001b[0;34m,\u001b[0m \u001b[0;34m*\u001b[0m\u001b[0margs\u001b[0m\u001b[0;34m,\u001b[0m \u001b[0;34m**\u001b[0m\u001b[0mkw\u001b[0m\u001b[0;34m)\u001b[0m\u001b[0;34m\u001b[0m\u001b[0;34m\u001b[0m\u001b[0m\n\u001b[0m\u001b[1;32m     50\u001b[0m \u001b[0;34m\u001b[0m\u001b[0m\n\u001b[1;32m     51\u001b[0m             \u001b[0;32mreturn\u001b[0m \u001b[0mwrapped_f\u001b[0m\u001b[0;34m\u001b[0m\u001b[0;34m\u001b[0m\u001b[0m\n",
      "\u001b[0;32m~/tutorial-env/lib/python3.9/site-packages/retrying.py\u001b[0m in \u001b[0;36mcall\u001b[0;34m(self, fn, *args, **kwargs)\u001b[0m\n\u001b[1;32m    210\u001b[0m                 \u001b[0;32mif\u001b[0m \u001b[0;32mnot\u001b[0m \u001b[0mself\u001b[0m\u001b[0;34m.\u001b[0m\u001b[0m_wrap_exception\u001b[0m \u001b[0;32mand\u001b[0m \u001b[0mattempt\u001b[0m\u001b[0;34m.\u001b[0m\u001b[0mhas_exception\u001b[0m\u001b[0;34m:\u001b[0m\u001b[0;34m\u001b[0m\u001b[0;34m\u001b[0m\u001b[0m\n\u001b[1;32m    211\u001b[0m                     \u001b[0;31m# get() on an attempt with an exception should cause it to be raised, but raise just in case\u001b[0m\u001b[0;34m\u001b[0m\u001b[0;34m\u001b[0m\u001b[0;34m\u001b[0m\u001b[0m\n\u001b[0;32m--> 212\u001b[0;31m                     \u001b[0;32mraise\u001b[0m \u001b[0mattempt\u001b[0m\u001b[0;34m.\u001b[0m\u001b[0mget\u001b[0m\u001b[0;34m(\u001b[0m\u001b[0;34m)\u001b[0m\u001b[0;34m\u001b[0m\u001b[0;34m\u001b[0m\u001b[0m\n\u001b[0m\u001b[1;32m    213\u001b[0m                 \u001b[0;32melse\u001b[0m\u001b[0;34m:\u001b[0m\u001b[0;34m\u001b[0m\u001b[0;34m\u001b[0m\u001b[0m\n\u001b[1;32m    214\u001b[0m                     \u001b[0;32mraise\u001b[0m \u001b[0mRetryError\u001b[0m\u001b[0;34m(\u001b[0m\u001b[0mattempt\u001b[0m\u001b[0;34m)\u001b[0m\u001b[0;34m\u001b[0m\u001b[0;34m\u001b[0m\u001b[0m\n",
      "\u001b[0;32m~/tutorial-env/lib/python3.9/site-packages/retrying.py\u001b[0m in \u001b[0;36mget\u001b[0;34m(self, wrap_exception)\u001b[0m\n\u001b[1;32m    245\u001b[0m                 \u001b[0;32mraise\u001b[0m \u001b[0mRetryError\u001b[0m\u001b[0;34m(\u001b[0m\u001b[0mself\u001b[0m\u001b[0;34m)\u001b[0m\u001b[0;34m\u001b[0m\u001b[0;34m\u001b[0m\u001b[0m\n\u001b[1;32m    246\u001b[0m             \u001b[0;32melse\u001b[0m\u001b[0;34m:\u001b[0m\u001b[0;34m\u001b[0m\u001b[0;34m\u001b[0m\u001b[0m\n\u001b[0;32m--> 247\u001b[0;31m                 \u001b[0msix\u001b[0m\u001b[0;34m.\u001b[0m\u001b[0mreraise\u001b[0m\u001b[0;34m(\u001b[0m\u001b[0mself\u001b[0m\u001b[0;34m.\u001b[0m\u001b[0mvalue\u001b[0m\u001b[0;34m[\u001b[0m\u001b[0;36m0\u001b[0m\u001b[0;34m]\u001b[0m\u001b[0;34m,\u001b[0m \u001b[0mself\u001b[0m\u001b[0;34m.\u001b[0m\u001b[0mvalue\u001b[0m\u001b[0;34m[\u001b[0m\u001b[0;36m1\u001b[0m\u001b[0;34m]\u001b[0m\u001b[0;34m,\u001b[0m \u001b[0mself\u001b[0m\u001b[0;34m.\u001b[0m\u001b[0mvalue\u001b[0m\u001b[0;34m[\u001b[0m\u001b[0;36m2\u001b[0m\u001b[0;34m]\u001b[0m\u001b[0;34m)\u001b[0m\u001b[0;34m\u001b[0m\u001b[0;34m\u001b[0m\u001b[0m\n\u001b[0m\u001b[1;32m    248\u001b[0m         \u001b[0;32melse\u001b[0m\u001b[0;34m:\u001b[0m\u001b[0;34m\u001b[0m\u001b[0;34m\u001b[0m\u001b[0m\n\u001b[1;32m    249\u001b[0m             \u001b[0;32mreturn\u001b[0m \u001b[0mself\u001b[0m\u001b[0;34m.\u001b[0m\u001b[0mvalue\u001b[0m\u001b[0;34m\u001b[0m\u001b[0;34m\u001b[0m\u001b[0m\n",
      "\u001b[0;32m~/tutorial-env/lib/python3.9/site-packages/six.py\u001b[0m in \u001b[0;36mreraise\u001b[0;34m(tp, value, tb)\u001b[0m\n\u001b[1;32m    701\u001b[0m             \u001b[0;32mif\u001b[0m \u001b[0mvalue\u001b[0m\u001b[0;34m.\u001b[0m\u001b[0m__traceback__\u001b[0m \u001b[0;32mis\u001b[0m \u001b[0;32mnot\u001b[0m \u001b[0mtb\u001b[0m\u001b[0;34m:\u001b[0m\u001b[0;34m\u001b[0m\u001b[0;34m\u001b[0m\u001b[0m\n\u001b[1;32m    702\u001b[0m                 \u001b[0;32mraise\u001b[0m \u001b[0mvalue\u001b[0m\u001b[0;34m.\u001b[0m\u001b[0mwith_traceback\u001b[0m\u001b[0;34m(\u001b[0m\u001b[0mtb\u001b[0m\u001b[0;34m)\u001b[0m\u001b[0;34m\u001b[0m\u001b[0;34m\u001b[0m\u001b[0m\n\u001b[0;32m--> 703\u001b[0;31m             \u001b[0;32mraise\u001b[0m \u001b[0mvalue\u001b[0m\u001b[0;34m\u001b[0m\u001b[0;34m\u001b[0m\u001b[0m\n\u001b[0m\u001b[1;32m    704\u001b[0m         \u001b[0;32mfinally\u001b[0m\u001b[0;34m:\u001b[0m\u001b[0;34m\u001b[0m\u001b[0;34m\u001b[0m\u001b[0m\n\u001b[1;32m    705\u001b[0m             \u001b[0mvalue\u001b[0m \u001b[0;34m=\u001b[0m \u001b[0;32mNone\u001b[0m\u001b[0;34m\u001b[0m\u001b[0;34m\u001b[0m\u001b[0m\n",
      "\u001b[0;32m~/tutorial-env/lib/python3.9/site-packages/retrying.py\u001b[0m in \u001b[0;36mcall\u001b[0;34m(self, fn, *args, **kwargs)\u001b[0m\n\u001b[1;32m    198\u001b[0m         \u001b[0;32mwhile\u001b[0m \u001b[0;32mTrue\u001b[0m\u001b[0;34m:\u001b[0m\u001b[0;34m\u001b[0m\u001b[0;34m\u001b[0m\u001b[0m\n\u001b[1;32m    199\u001b[0m             \u001b[0;32mtry\u001b[0m\u001b[0;34m:\u001b[0m\u001b[0;34m\u001b[0m\u001b[0;34m\u001b[0m\u001b[0m\n\u001b[0;32m--> 200\u001b[0;31m                 \u001b[0mattempt\u001b[0m \u001b[0;34m=\u001b[0m \u001b[0mAttempt\u001b[0m\u001b[0;34m(\u001b[0m\u001b[0mfn\u001b[0m\u001b[0;34m(\u001b[0m\u001b[0;34m*\u001b[0m\u001b[0margs\u001b[0m\u001b[0;34m,\u001b[0m \u001b[0;34m**\u001b[0m\u001b[0mkwargs\u001b[0m\u001b[0;34m)\u001b[0m\u001b[0;34m,\u001b[0m \u001b[0mattempt_number\u001b[0m\u001b[0;34m,\u001b[0m \u001b[0;32mFalse\u001b[0m\u001b[0;34m)\u001b[0m\u001b[0;34m\u001b[0m\u001b[0;34m\u001b[0m\u001b[0m\n\u001b[0m\u001b[1;32m    201\u001b[0m             \u001b[0;32mexcept\u001b[0m\u001b[0;34m:\u001b[0m\u001b[0;34m\u001b[0m\u001b[0;34m\u001b[0m\u001b[0m\n\u001b[1;32m    202\u001b[0m                 \u001b[0mtb\u001b[0m \u001b[0;34m=\u001b[0m \u001b[0msys\u001b[0m\u001b[0;34m.\u001b[0m\u001b[0mexc_info\u001b[0m\u001b[0;34m(\u001b[0m\u001b[0;34m)\u001b[0m\u001b[0;34m\u001b[0m\u001b[0;34m\u001b[0m\u001b[0m\n",
      "\u001b[0;32m~/tutorial-env/lib/python3.9/site-packages/jupyter_dash/jupyter_app.py\u001b[0m in \u001b[0;36mwait_for_app\u001b[0;34m()\u001b[0m\n\u001b[1;32m    310\u001b[0m                     \u001b[0mhost\u001b[0m\u001b[0;34m=\u001b[0m\u001b[0mhost\u001b[0m\u001b[0;34m,\u001b[0m \u001b[0mport\u001b[0m\u001b[0;34m=\u001b[0m\u001b[0mport\u001b[0m\u001b[0;34m,\u001b[0m \u001b[0mtoken\u001b[0m\u001b[0;34m=\u001b[0m\u001b[0mJupyterDash\u001b[0m\u001b[0;34m.\u001b[0m\u001b[0m_token\u001b[0m\u001b[0;34m\u001b[0m\u001b[0;34m\u001b[0m\u001b[0m\n\u001b[1;32m    311\u001b[0m                 )\n\u001b[0;32m--> 312\u001b[0;31m                 raise OSError(\n\u001b[0m\u001b[1;32m    313\u001b[0m                     \u001b[0;34m\"Address '{url}' already in use.\\n\"\u001b[0m\u001b[0;34m\u001b[0m\u001b[0;34m\u001b[0m\u001b[0m\n\u001b[1;32m    314\u001b[0m                     \"    Try passing a different port to run_server.\".format(\n",
      "\u001b[0;31mOSError\u001b[0m: Address 'http://127.0.0.1:8050' already in use.\n    Try passing a different port to run_server."
     ]
    },
    {
     "name": "stderr",
     "output_type": "stream",
     "text": [
      "Exception in thread Thread-5:\n",
      "Traceback (most recent call last):\n",
      "  File \"/Library/Frameworks/Python.framework/Versions/3.9/lib/python3.9/threading.py\", line 954, in _bootstrap_inner\n",
      "    self.run()\n",
      "  File \"/Library/Frameworks/Python.framework/Versions/3.9/lib/python3.9/threading.py\", line 892, in run\n",
      "    self._target(*self._args, **self._kwargs)\n",
      "  File \"/Users/dejanewton/tutorial-env/lib/python3.9/site-packages/retrying.py\", line 49, in wrapped_f\n",
      "    return Retrying(*dargs, **dkw).call(f, *args, **kw)\n",
      "  File \"/Users/dejanewton/tutorial-env/lib/python3.9/site-packages/retrying.py\", line 212, in call\n",
      "    raise attempt.get()\n",
      "  File \"/Users/dejanewton/tutorial-env/lib/python3.9/site-packages/retrying.py\", line 247, in get\n",
      "    six.reraise(self.value[0], self.value[1], self.value[2])\n",
      "  File \"/Users/dejanewton/tutorial-env/lib/python3.9/site-packages/six.py\", line 703, in reraise\n",
      "    raise value\n",
      "  File \"/Users/dejanewton/tutorial-env/lib/python3.9/site-packages/retrying.py\", line 200, in call\n",
      "    attempt = Attempt(fn(*args, **kwargs), attempt_number, False)\n",
      "  File \"/Users/dejanewton/tutorial-env/lib/python3.9/site-packages/jupyter_dash/jupyter_app.py\", line 289, in run\n",
      "    super_run_server(**kwargs)\n",
      "  File \"/Users/dejanewton/tutorial-env/lib/python3.9/site-packages/dash/dash.py\", line 1718, in run_server\n",
      "    self.server.run(host=host, port=port, debug=debug, **flask_run_options)\n",
      "  File \"/Users/dejanewton/tutorial-env/lib/python3.9/site-packages/flask/app.py\", line 922, in run\n",
      "    run_simple(t.cast(str, host), port, self, **options)\n",
      "  File \"/Users/dejanewton/tutorial-env/lib/python3.9/site-packages/werkzeug/serving.py\", line 1008, in run_simple\n",
      "    inner()\n",
      "  File \"/Users/dejanewton/tutorial-env/lib/python3.9/site-packages/werkzeug/serving.py\", line 948, in inner\n",
      "    srv = make_server(\n",
      "  File \"/Users/dejanewton/tutorial-env/lib/python3.9/site-packages/werkzeug/serving.py\", line 780, in make_server\n",
      "    return ThreadedWSGIServer(\n",
      "  File \"/Users/dejanewton/tutorial-env/lib/python3.9/site-packages/werkzeug/serving.py\", line 686, in __init__\n",
      "    super().__init__(server_address, handler)  # type: ignore\n",
      "  File \"/Library/Frameworks/Python.framework/Versions/3.9/lib/python3.9/socketserver.py\", line 452, in __init__\n",
      "    self.server_bind()\n",
      "  File \"/Library/Frameworks/Python.framework/Versions/3.9/lib/python3.9/http/server.py\", line 138, in server_bind\n",
      "    socketserver.TCPServer.server_bind(self)\n",
      "  File \"/Library/Frameworks/Python.framework/Versions/3.9/lib/python3.9/socketserver.py\", line 466, in server_bind\n",
      "    self.socket.bind(self.server_address)\n",
      "OSError: [Errno 48] Address already in use\n"
     ]
    }
   ],
   "source": [
    "from jupyter_dash import JupyterDash #pip install jupyter-dash\n",
    "import dash_core_components as dcc\n",
    "import dash_html_components as html\n",
    "from dash.dependencies import Output, Input\n",
    "import plotly.express as px\n",
    "import random\n",
    "\n",
    "X = [0]\n",
    "Y = [1]\n",
    "\n",
    "app = JupyterDash(__name__)\n",
    "\n",
    "#App Layout\n",
    "app.layout = html.Div(children=[\n",
    "    html.H1(children='Dash is Awesome!'),\n",
    "    dcc.Graph(id='live-graph'),\n",
    "    dcc.Interval(\n",
    "        id='graph-update',\n",
    "        interval=1000\n",
    "        ),\n",
    "    ]\n",
    ")\n",
    "\n",
    "#App Callback\n",
    "@app.callback(Output('live-graph', 'figure'),\n",
    "              [Input('graph-update', 'n_intervals')])\n",
    "\n",
    "def update_graph(input_data):\n",
    "    X.append(X[-1]+1)\n",
    "    Y.append(Y[-1]+Y[-1]*random.uniform(-0.1,0.1))\n",
    "\n",
    "    # Figure\n",
    "    fig = px.line(x=list(X), y=list(Y))\n",
    "    fig.update_layout(xaxis=dict(range=[X[0],X[-1]]), yaxis=dict(range=[min(Y)-0.3,max(Y)+0.1]))\n",
    "\n",
    "    return fig\n",
    "\n",
    "if __name__ == '__main__':\n",
    "    app.run_server(mode=\"inline\")"
   ]
  },
  {
   "cell_type": "code",
   "execution_count": null,
   "id": "decimal-tsunami",
   "metadata": {},
   "outputs": [],
   "source": []
  }
 ],
 "metadata": {
  "kernelspec": {
   "display_name": "Python 3",
   "language": "python",
   "name": "python3"
  },
  "language_info": {
   "codemirror_mode": {
    "name": "ipython",
    "version": 3
   },
   "file_extension": ".py",
   "mimetype": "text/x-python",
   "name": "python",
   "nbconvert_exporter": "python",
   "pygments_lexer": "ipython3",
   "version": "3.9.1"
  },
  "toc-autonumbering": false,
  "toc-showcode": true,
  "toc-showmarkdowntxt": true,
  "toc-showtags": true
 },
 "nbformat": 4,
 "nbformat_minor": 5
}
